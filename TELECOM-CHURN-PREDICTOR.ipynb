{
 "cells": [
  {
   "cell_type": "markdown",
   "id": "0f4f2000",
   "metadata": {},
   "source": [
    "# Churn Prediction of Customers"
   ]
  },
  {
   "cell_type": "markdown",
   "id": "9c426a71",
   "metadata": {},
   "source": [
    "\n",
    "DATASET\n",
    "\n",
    "The Dataset is a fictional dataset of customer churn from telecom industry. Dataset is obtained from: https://www.kaggle.com/blastchar/telco-customer-churn\n",
    "\n",
    "ATTRIBUTES\n",
    "The following are the features present in the dataset\n",
    "\n",
    "Target Feature:\n",
    "\n",
    "Churn: Whether the customer churned or not (Yes or No)\n",
    "\n",
    "Seventeen categorical Features:\n",
    "\n",
    "Features related to Customer Personal details:\n",
    "\n",
    "CustomerID: Customer ID , a unique ID for each customer\n",
    "\n",
    "gender: Whether the customer is a male or a female\n",
    "\n",
    "SeniorCitizen: Whether the customer is a senior citizen or not\n",
    "Partner: Whether the customer has a partner or not\n",
    "Dependents: Whether the customer has dependents or not\n",
    "Features based on the services opted by the Customer:\n",
    "\n",
    "Contract: The contract term of the customer (Month-to-month, One year, Two years)\n",
    "PaperlessBilling: Whether the customer has paperless billing or not\n",
    "PaymentMethod: The customer’s payment method (Electronic check, Mailed check, Bank transfer (automatic), Credit card (automatic))\n",
    "PhoneService: Whether the customer has a phone service or not\n",
    "If the customer has opted \"PhoneSevice\" the following are features are to be considered\n",
    "MultipleLines: Whether the customer has multiple phone lines or not\n",
    "InternetService: Type of Internet Connection opted by Customer. (DSL, Fiber optic, No)\n",
    "If the customer has opted \"InternetService\" the following are features are to be considered\n",
    "\n",
    "OnlineSecurity: Whether the customer has online security or not\n",
    "OnlineBackup: Whether the customer has an online backup or not\n",
    "DeviceProtection: Whether the customer has device protection or not\n",
    "TechSupport: Whether the customer has tech support or not\n",
    "StreamingTV: Whether the customer has streaming TV or not\n",
    "StreamingMovies: Whether the customer has streaming movies or not\n",
    "Three numerical Features:\n",
    "\n",
    "MonthlyCharges: The amount charged to the customer monthly\n",
    "TotalCharges: The total amount charged to the customer\n",
    "Tenure: Number of months the customer has used the services of the company / stayed with the company"
   ]
  },
  {
   "cell_type": "code",
   "execution_count": 1,
   "id": "b82a82c5",
   "metadata": {},
   "outputs": [],
   "source": [
    "# Basic Python Packages \n",
    "import pandas as pd\n",
    "import numpy as np \n",
    "import matplotlib.pyplot as plt\n",
    "%matplotlib inline\n",
    "import seaborn as sns\n",
    "import math\n",
    "\n",
    "import warnings\n",
    "warnings.filterwarnings(\"ignore\")\n",
    "\n",
    "# Packages for preprocessing\n",
    "from sklearn.preprocessing import MinMaxScaler\n",
    "from sklearn.model_selection import train_test_split\n",
    "\n",
    "# Packages for Feature selection\n",
    "from scipy.stats import ttest_ind\n",
    "from scipy.stats import chi2_contingency\n",
    "\n",
    "# packages for model evaluation\n",
    "from sklearn.model_selection import RandomizedSearchCV \n",
    "from sklearn.model_selection import cross_val_score\n",
    "from sklearn.metrics import accuracy_score, precision_score, recall_score, confusion_matrix\n",
    "from sklearn.metrics import classification_report, f1_score, fbeta_score, make_scorer\n",
    "\n",
    "#Packages for Models\n",
    "\n",
    "from sklearn.svm import SVC\n",
    "# import the model\n",
    "from sklearn.svm import SVR\n"
   ]
  },
  {
   "cell_type": "code",
   "execution_count": 2,
   "id": "5d925c4b",
   "metadata": {},
   "outputs": [
    {
     "data": {
      "text/html": [
       "<div>\n",
       "<style scoped>\n",
       "    .dataframe tbody tr th:only-of-type {\n",
       "        vertical-align: middle;\n",
       "    }\n",
       "\n",
       "    .dataframe tbody tr th {\n",
       "        vertical-align: top;\n",
       "    }\n",
       "\n",
       "    .dataframe thead th {\n",
       "        text-align: right;\n",
       "    }\n",
       "</style>\n",
       "<table border=\"1\" class=\"dataframe\">\n",
       "  <thead>\n",
       "    <tr style=\"text-align: right;\">\n",
       "      <th></th>\n",
       "      <th>customerID</th>\n",
       "      <th>gender</th>\n",
       "      <th>SeniorCitizen</th>\n",
       "      <th>Partner</th>\n",
       "      <th>Dependents</th>\n",
       "      <th>tenure</th>\n",
       "      <th>PhoneService</th>\n",
       "      <th>MultipleLines</th>\n",
       "      <th>InternetService</th>\n",
       "      <th>OnlineSecurity</th>\n",
       "      <th>...</th>\n",
       "      <th>DeviceProtection</th>\n",
       "      <th>TechSupport</th>\n",
       "      <th>StreamingTV</th>\n",
       "      <th>StreamingMovies</th>\n",
       "      <th>Contract</th>\n",
       "      <th>PaperlessBilling</th>\n",
       "      <th>PaymentMethod</th>\n",
       "      <th>MonthlyCharges</th>\n",
       "      <th>TotalCharges</th>\n",
       "      <th>Churn</th>\n",
       "    </tr>\n",
       "  </thead>\n",
       "  <tbody>\n",
       "    <tr>\n",
       "      <th>0</th>\n",
       "      <td>7590-VHVEG</td>\n",
       "      <td>Female</td>\n",
       "      <td>0</td>\n",
       "      <td>Yes</td>\n",
       "      <td>No</td>\n",
       "      <td>1</td>\n",
       "      <td>No</td>\n",
       "      <td>No phone service</td>\n",
       "      <td>DSL</td>\n",
       "      <td>No</td>\n",
       "      <td>...</td>\n",
       "      <td>No</td>\n",
       "      <td>No</td>\n",
       "      <td>No</td>\n",
       "      <td>No</td>\n",
       "      <td>Month-to-month</td>\n",
       "      <td>Yes</td>\n",
       "      <td>Electronic check</td>\n",
       "      <td>29.85</td>\n",
       "      <td>29.85</td>\n",
       "      <td>No</td>\n",
       "    </tr>\n",
       "    <tr>\n",
       "      <th>1</th>\n",
       "      <td>5575-GNVDE</td>\n",
       "      <td>Male</td>\n",
       "      <td>0</td>\n",
       "      <td>No</td>\n",
       "      <td>No</td>\n",
       "      <td>34</td>\n",
       "      <td>Yes</td>\n",
       "      <td>No</td>\n",
       "      <td>DSL</td>\n",
       "      <td>Yes</td>\n",
       "      <td>...</td>\n",
       "      <td>Yes</td>\n",
       "      <td>No</td>\n",
       "      <td>No</td>\n",
       "      <td>No</td>\n",
       "      <td>One year</td>\n",
       "      <td>No</td>\n",
       "      <td>Mailed check</td>\n",
       "      <td>56.95</td>\n",
       "      <td>1889.5</td>\n",
       "      <td>No</td>\n",
       "    </tr>\n",
       "    <tr>\n",
       "      <th>2</th>\n",
       "      <td>3668-QPYBK</td>\n",
       "      <td>Male</td>\n",
       "      <td>0</td>\n",
       "      <td>No</td>\n",
       "      <td>No</td>\n",
       "      <td>2</td>\n",
       "      <td>Yes</td>\n",
       "      <td>No</td>\n",
       "      <td>DSL</td>\n",
       "      <td>Yes</td>\n",
       "      <td>...</td>\n",
       "      <td>No</td>\n",
       "      <td>No</td>\n",
       "      <td>No</td>\n",
       "      <td>No</td>\n",
       "      <td>Month-to-month</td>\n",
       "      <td>Yes</td>\n",
       "      <td>Mailed check</td>\n",
       "      <td>53.85</td>\n",
       "      <td>108.15</td>\n",
       "      <td>Yes</td>\n",
       "    </tr>\n",
       "    <tr>\n",
       "      <th>3</th>\n",
       "      <td>7795-CFOCW</td>\n",
       "      <td>Male</td>\n",
       "      <td>0</td>\n",
       "      <td>No</td>\n",
       "      <td>No</td>\n",
       "      <td>45</td>\n",
       "      <td>No</td>\n",
       "      <td>No phone service</td>\n",
       "      <td>DSL</td>\n",
       "      <td>Yes</td>\n",
       "      <td>...</td>\n",
       "      <td>Yes</td>\n",
       "      <td>Yes</td>\n",
       "      <td>No</td>\n",
       "      <td>No</td>\n",
       "      <td>One year</td>\n",
       "      <td>No</td>\n",
       "      <td>Bank transfer (automatic)</td>\n",
       "      <td>42.30</td>\n",
       "      <td>1840.75</td>\n",
       "      <td>No</td>\n",
       "    </tr>\n",
       "    <tr>\n",
       "      <th>4</th>\n",
       "      <td>9237-HQITU</td>\n",
       "      <td>Female</td>\n",
       "      <td>0</td>\n",
       "      <td>No</td>\n",
       "      <td>No</td>\n",
       "      <td>2</td>\n",
       "      <td>Yes</td>\n",
       "      <td>No</td>\n",
       "      <td>Fiber optic</td>\n",
       "      <td>No</td>\n",
       "      <td>...</td>\n",
       "      <td>No</td>\n",
       "      <td>No</td>\n",
       "      <td>No</td>\n",
       "      <td>No</td>\n",
       "      <td>Month-to-month</td>\n",
       "      <td>Yes</td>\n",
       "      <td>Electronic check</td>\n",
       "      <td>70.70</td>\n",
       "      <td>151.65</td>\n",
       "      <td>Yes</td>\n",
       "    </tr>\n",
       "  </tbody>\n",
       "</table>\n",
       "<p>5 rows × 21 columns</p>\n",
       "</div>"
      ],
      "text/plain": [
       "   customerID  gender  SeniorCitizen Partner Dependents  tenure PhoneService  \\\n",
       "0  7590-VHVEG  Female              0     Yes         No       1           No   \n",
       "1  5575-GNVDE    Male              0      No         No      34          Yes   \n",
       "2  3668-QPYBK    Male              0      No         No       2          Yes   \n",
       "3  7795-CFOCW    Male              0      No         No      45           No   \n",
       "4  9237-HQITU  Female              0      No         No       2          Yes   \n",
       "\n",
       "      MultipleLines InternetService OnlineSecurity  ... DeviceProtection  \\\n",
       "0  No phone service             DSL             No  ...               No   \n",
       "1                No             DSL            Yes  ...              Yes   \n",
       "2                No             DSL            Yes  ...               No   \n",
       "3  No phone service             DSL            Yes  ...              Yes   \n",
       "4                No     Fiber optic             No  ...               No   \n",
       "\n",
       "  TechSupport StreamingTV StreamingMovies        Contract PaperlessBilling  \\\n",
       "0          No          No              No  Month-to-month              Yes   \n",
       "1          No          No              No        One year               No   \n",
       "2          No          No              No  Month-to-month              Yes   \n",
       "3         Yes          No              No        One year               No   \n",
       "4          No          No              No  Month-to-month              Yes   \n",
       "\n",
       "               PaymentMethod MonthlyCharges  TotalCharges Churn  \n",
       "0           Electronic check          29.85         29.85    No  \n",
       "1               Mailed check          56.95        1889.5    No  \n",
       "2               Mailed check          53.85        108.15   Yes  \n",
       "3  Bank transfer (automatic)          42.30       1840.75    No  \n",
       "4           Electronic check          70.70        151.65   Yes  \n",
       "\n",
       "[5 rows x 21 columns]"
      ]
     },
     "execution_count": 2,
     "metadata": {},
     "output_type": "execute_result"
    }
   ],
   "source": [
    "df = pd.read_csv(r\"C:\\Users\\raaga\\Downloads\\CHURN DATASET\\WA_Fn-UseC_-Telco-Customer-Churn.csv\")\n",
    "df.head(5)"
   ]
  },
  {
   "cell_type": "code",
   "execution_count": 3,
   "id": "bfb665c5",
   "metadata": {},
   "outputs": [
    {
     "data": {
      "text/plain": [
       "(7043, 21)"
      ]
     },
     "execution_count": 3,
     "metadata": {},
     "output_type": "execute_result"
    }
   ],
   "source": [
    "df.shape"
   ]
  },
  {
   "cell_type": "code",
   "execution_count": 4,
   "id": "1b301b25",
   "metadata": {},
   "outputs": [],
   "source": [
    "X = df.drop(['Churn'], axis = 1)\n",
    "Y = df['Churn']\n",
    "x_train, x_test, y_train, y_test = train_test_split(X,Y, stratify = Y, test_size = 0.25, random_state= 42)\n"
   ]
  },
  {
   "cell_type": "code",
   "execution_count": 5,
   "id": "15fb3a78",
   "metadata": {},
   "outputs": [
    {
     "data": {
      "text/plain": [
       "(5282, 20)"
      ]
     },
     "execution_count": 5,
     "metadata": {},
     "output_type": "execute_result"
    }
   ],
   "source": [
    "x_train.shape"
   ]
  },
  {
   "cell_type": "code",
   "execution_count": 6,
   "id": "9c15cd6f",
   "metadata": {},
   "outputs": [
    {
     "data": {
      "text/plain": [
       "(5282, 21)"
      ]
     },
     "execution_count": 6,
     "metadata": {},
     "output_type": "execute_result"
    }
   ],
   "source": [
    "train = pd.concat([x_train,  y_train], axis = 1)\n",
    "train.shape"
   ]
  },
  {
   "cell_type": "code",
   "execution_count": 7,
   "id": "89ce3982",
   "metadata": {},
   "outputs": [
    {
     "data": {
      "text/plain": [
       "(5282, 21)"
      ]
     },
     "execution_count": 7,
     "metadata": {},
     "output_type": "execute_result"
    }
   ],
   "source": [
    "train = pd.concat([x_train,  y_train], axis = 1)\n",
    "train.shape"
   ]
  },
  {
   "cell_type": "markdown",
   "id": "21a940bc",
   "metadata": {},
   "source": [
    "All the analysis should be done only on the training set and not on test set. If analysis and preprocessing is done on test set, then the test set may not reflect the correct result as it becomes biased due to data leakage."
   ]
  },
  {
   "cell_type": "markdown",
   "id": "dbd25242",
   "metadata": {},
   "source": [
    "# Exploratory Data Analysis"
   ]
  },
  {
   "cell_type": "code",
   "execution_count": 8,
   "id": "b8d66895",
   "metadata": {},
   "outputs": [
    {
     "name": "stdout",
     "output_type": "stream",
     "text": [
      "<class 'pandas.core.frame.DataFrame'>\n",
      "Int64Index: 5282 entries, 6661 to 5639\n",
      "Data columns (total 21 columns):\n",
      " #   Column            Non-Null Count  Dtype  \n",
      "---  ------            --------------  -----  \n",
      " 0   customerID        5282 non-null   object \n",
      " 1   gender            5282 non-null   object \n",
      " 2   SeniorCitizen     5282 non-null   int64  \n",
      " 3   Partner           5282 non-null   object \n",
      " 4   Dependents        5282 non-null   object \n",
      " 5   tenure            5282 non-null   int64  \n",
      " 6   PhoneService      5282 non-null   object \n",
      " 7   MultipleLines     5282 non-null   object \n",
      " 8   InternetService   5282 non-null   object \n",
      " 9   OnlineSecurity    5282 non-null   object \n",
      " 10  OnlineBackup      5282 non-null   object \n",
      " 11  DeviceProtection  5282 non-null   object \n",
      " 12  TechSupport       5282 non-null   object \n",
      " 13  StreamingTV       5282 non-null   object \n",
      " 14  StreamingMovies   5282 non-null   object \n",
      " 15  Contract          5282 non-null   object \n",
      " 16  PaperlessBilling  5282 non-null   object \n",
      " 17  PaymentMethod     5282 non-null   object \n",
      " 18  MonthlyCharges    5282 non-null   float64\n",
      " 19  TotalCharges      5282 non-null   object \n",
      " 20  Churn             5282 non-null   object \n",
      "dtypes: float64(1), int64(2), object(18)\n",
      "memory usage: 907.8+ KB\n"
     ]
    }
   ],
   "source": [
    "train.info()"
   ]
  },
  {
   "cell_type": "markdown",
   "id": "e2c6ea01",
   "metadata": {},
   "source": [
    "There are no missing values in the dataset\n",
    "\n"
   ]
  },
  {
   "cell_type": "code",
   "execution_count": 9,
   "id": "d218ca52",
   "metadata": {},
   "outputs": [
    {
     "data": {
      "text/plain": [
       "(0, 21)"
      ]
     },
     "execution_count": 9,
     "metadata": {},
     "output_type": "execute_result"
    }
   ],
   "source": [
    "train_duplicates = train[train.duplicated()]\n",
    "train_duplicates.shape"
   ]
  },
  {
   "cell_type": "markdown",
   "id": "7e3f516f",
   "metadata": {},
   "source": [
    " There is no duplicate rows in this dataset"
   ]
  },
  {
   "cell_type": "code",
   "execution_count": 10,
   "id": "c48accab",
   "metadata": {},
   "outputs": [
    {
     "data": {
      "text/html": [
       "<div>\n",
       "<style scoped>\n",
       "    .dataframe tbody tr th:only-of-type {\n",
       "        vertical-align: middle;\n",
       "    }\n",
       "\n",
       "    .dataframe tbody tr th {\n",
       "        vertical-align: top;\n",
       "    }\n",
       "\n",
       "    .dataframe thead th {\n",
       "        text-align: right;\n",
       "    }\n",
       "</style>\n",
       "<table border=\"1\" class=\"dataframe\">\n",
       "  <thead>\n",
       "    <tr style=\"text-align: right;\">\n",
       "      <th></th>\n",
       "      <th>SeniorCitizen</th>\n",
       "      <th>tenure</th>\n",
       "      <th>MonthlyCharges</th>\n",
       "    </tr>\n",
       "  </thead>\n",
       "  <tbody>\n",
       "    <tr>\n",
       "      <th>count</th>\n",
       "      <td>5282.000000</td>\n",
       "      <td>5282.000000</td>\n",
       "      <td>5282.000000</td>\n",
       "    </tr>\n",
       "    <tr>\n",
       "      <th>mean</th>\n",
       "      <td>0.162060</td>\n",
       "      <td>32.362931</td>\n",
       "      <td>64.856626</td>\n",
       "    </tr>\n",
       "    <tr>\n",
       "      <th>std</th>\n",
       "      <td>0.368541</td>\n",
       "      <td>24.627623</td>\n",
       "      <td>30.171934</td>\n",
       "    </tr>\n",
       "    <tr>\n",
       "      <th>min</th>\n",
       "      <td>0.000000</td>\n",
       "      <td>0.000000</td>\n",
       "      <td>18.400000</td>\n",
       "    </tr>\n",
       "    <tr>\n",
       "      <th>25%</th>\n",
       "      <td>0.000000</td>\n",
       "      <td>9.000000</td>\n",
       "      <td>35.450000</td>\n",
       "    </tr>\n",
       "    <tr>\n",
       "      <th>50%</th>\n",
       "      <td>0.000000</td>\n",
       "      <td>29.000000</td>\n",
       "      <td>70.500000</td>\n",
       "    </tr>\n",
       "    <tr>\n",
       "      <th>75%</th>\n",
       "      <td>0.000000</td>\n",
       "      <td>55.750000</td>\n",
       "      <td>89.987500</td>\n",
       "    </tr>\n",
       "    <tr>\n",
       "      <th>max</th>\n",
       "      <td>1.000000</td>\n",
       "      <td>72.000000</td>\n",
       "      <td>118.750000</td>\n",
       "    </tr>\n",
       "  </tbody>\n",
       "</table>\n",
       "</div>"
      ],
      "text/plain": [
       "       SeniorCitizen       tenure  MonthlyCharges\n",
       "count    5282.000000  5282.000000     5282.000000\n",
       "mean        0.162060    32.362931       64.856626\n",
       "std         0.368541    24.627623       30.171934\n",
       "min         0.000000     0.000000       18.400000\n",
       "25%         0.000000     9.000000       35.450000\n",
       "50%         0.000000    29.000000       70.500000\n",
       "75%         0.000000    55.750000       89.987500\n",
       "max         1.000000    72.000000      118.750000"
      ]
     },
     "execution_count": 10,
     "metadata": {},
     "output_type": "execute_result"
    }
   ],
   "source": [
    "train.describe()"
   ]
  },
  {
   "cell_type": "code",
   "execution_count": 11,
   "id": "85f075c3",
   "metadata": {},
   "outputs": [
    {
     "data": {
      "text/plain": [
       "No     3880\n",
       "Yes    1402\n",
       "Name: Churn, dtype: int64"
      ]
     },
     "execution_count": 11,
     "metadata": {},
     "output_type": "execute_result"
    }
   ],
   "source": [
    "train.Churn.value_counts()"
   ]
  },
  {
   "cell_type": "code",
   "execution_count": 11,
   "id": "df26259e",
   "metadata": {},
   "outputs": [
    {
     "data": {
      "image/png": "[encoded data removed]",
      "text/plain": [
       "<Figure size 432x288 with 1 Axes>"
      ]
     },
     "metadata": {},
     "output_type": "display_data"
    }
   ],
   "source": [
    "plt.figure(figsize=(6, 4))\n",
    "plt.pie(train.Churn.value_counts()/train.shape[0], labels = train.Churn.unique(), autopct='%1.2f%%')\n",
    "plt.title(\"Churn Ratio of Telecom Industry\")\n",
    "plt.show()"
   ]
  },
  {
   "cell_type": "markdown",
   "id": "9e6bc98d",
   "metadata": {},
   "source": [
    " 26.54% of customers are churning, 73.46% of customers retain with our business."
   ]
  },
  {
   "cell_type": "markdown",
   "id": "383b6da0",
   "metadata": {},
   "source": [
    "# Viewing the Unique Values of Each Column"
   ]
  },
  {
   "cell_type": "code",
   "execution_count": 12,
   "id": "48c13f30",
   "metadata": {},
   "outputs": [
    {
     "name": "stdout",
     "output_type": "stream",
     "text": [
      "Feature customerID has 5282 values - too large to print all values.. some sample are['3317-HRTNN' '0238-WHBIQ' '0578-SKVMF' '3696-DFHHB' '0363-SVHYR']\n",
      "Feature gender has 2 values - ['Female' 'Male']\n",
      "Feature SeniorCitizen has 2 values - [0 1]\n",
      "Feature Partner has 2 values - ['Yes' 'No']\n",
      "Feature Dependents has 2 values - ['Yes' 'No']\n",
      "Feature tenure has 73 values - too large to print all values.. some sample are[ 5 72 22 68 71]\n",
      "Feature PhoneService has 2 values - ['No' 'Yes']\n",
      "Feature MultipleLines has 3 values - ['No phone service' 'No' 'Yes']\n",
      "Feature InternetService has 3 values - ['DSL' 'No' 'Fiber optic']\n",
      "Feature OnlineSecurity has 3 values - ['No' 'No internet service' 'Yes']\n",
      "Feature OnlineBackup has 3 values - ['Yes' 'No' 'No internet service']\n",
      "Feature DeviceProtection has 3 values - ['No' 'No internet service' 'Yes']\n",
      "Feature TechSupport has 3 values - ['Yes' 'No' 'No internet service']\n",
      "Feature StreamingTV has 3 values - ['Yes' 'No' 'No internet service']\n",
      "Feature StreamingMovies has 3 values - ['Yes' 'No' 'No internet service']\n",
      "Feature Contract has 3 values - ['Two year' 'Month-to-month' 'One year']\n",
      "Feature PaperlessBilling has 2 values - ['No' 'Yes']\n",
      "Feature PaymentMethod has 4 values - ['Credit card (automatic)' 'Mailed check' 'Electronic check'\n",
      " 'Bank transfer (automatic)']\n",
      "Feature MonthlyCharges has 1471 values - too large to print all values.. some sample are[45.7  89.7  83.3  25.5  86.85]\n",
      "Feature TotalCharges has 4959 values - too large to print all values.. some sample are['198' '6339.3' '1845.9' '1821.8' '6263.8']\n",
      "Feature Churn has 2 values - ['No' 'Yes']\n"
     ]
    }
   ],
   "source": [
    "for feature in train.columns:\n",
    "  len_unique = len(train[feature].unique())\n",
    "  if len_unique <= 10 :\n",
    "    uniq = train[feature].unique()\n",
    "  else:\n",
    "    uniq = \"too large to print all values.. some sample are\" + str(train[feature][500:505].values)\n",
    "  print(\"Feature\",feature,\"has\",len_unique,\"values -\",uniq)"
   ]
  },
  {
   "cell_type": "code",
   "execution_count": null,
   "id": "947c8af8",
   "metadata": {},
   "outputs": [],
   "source": [
    "The TotalCharges are float numbers but it's datatype is an Object. We need to check it."
   ]
  },
  {
   "cell_type": "code",
   "execution_count": null,
   "id": "dca88ac3",
   "metadata": {},
   "outputs": [],
   "source": [
    "If we are not converting the Object type of TotalCharges to Float type, then we may not be able to do the EDA."
   ]
  },
  {
   "cell_type": "code",
   "execution_count": 13,
   "id": "c71297d5",
   "metadata": {},
   "outputs": [
    {
     "data": {
      "text/html": [
       "<div>\n",
       "<style scoped>\n",
       "    .dataframe tbody tr th:only-of-type {\n",
       "        vertical-align: middle;\n",
       "    }\n",
       "\n",
       "    .dataframe tbody tr th {\n",
       "        vertical-align: top;\n",
       "    }\n",
       "\n",
       "    .dataframe thead th {\n",
       "        text-align: right;\n",
       "    }\n",
       "</style>\n",
       "<table border=\"1\" class=\"dataframe\">\n",
       "  <thead>\n",
       "    <tr style=\"text-align: right;\">\n",
       "      <th></th>\n",
       "      <th>customerID</th>\n",
       "      <th>gender</th>\n",
       "      <th>SeniorCitizen</th>\n",
       "      <th>Partner</th>\n",
       "      <th>Dependents</th>\n",
       "      <th>tenure</th>\n",
       "      <th>PhoneService</th>\n",
       "      <th>MultipleLines</th>\n",
       "      <th>InternetService</th>\n",
       "      <th>OnlineSecurity</th>\n",
       "      <th>...</th>\n",
       "      <th>DeviceProtection</th>\n",
       "      <th>TechSupport</th>\n",
       "      <th>StreamingTV</th>\n",
       "      <th>StreamingMovies</th>\n",
       "      <th>Contract</th>\n",
       "      <th>PaperlessBilling</th>\n",
       "      <th>PaymentMethod</th>\n",
       "      <th>MonthlyCharges</th>\n",
       "      <th>TotalCharges</th>\n",
       "      <th>Churn</th>\n",
       "    </tr>\n",
       "  </thead>\n",
       "  <tbody>\n",
       "    <tr>\n",
       "      <th>6670</th>\n",
       "      <td>4075-WKNIU</td>\n",
       "      <td>Female</td>\n",
       "      <td>0</td>\n",
       "      <td>Yes</td>\n",
       "      <td>Yes</td>\n",
       "      <td>0</td>\n",
       "      <td>Yes</td>\n",
       "      <td>Yes</td>\n",
       "      <td>DSL</td>\n",
       "      <td>No</td>\n",
       "      <td>...</td>\n",
       "      <td>Yes</td>\n",
       "      <td>Yes</td>\n",
       "      <td>Yes</td>\n",
       "      <td>No</td>\n",
       "      <td>Two year</td>\n",
       "      <td>No</td>\n",
       "      <td>Mailed check</td>\n",
       "      <td>73.35</td>\n",
       "      <td></td>\n",
       "      <td>No</td>\n",
       "    </tr>\n",
       "    <tr>\n",
       "      <th>3826</th>\n",
       "      <td>3213-VVOLG</td>\n",
       "      <td>Male</td>\n",
       "      <td>0</td>\n",
       "      <td>Yes</td>\n",
       "      <td>Yes</td>\n",
       "      <td>0</td>\n",
       "      <td>Yes</td>\n",
       "      <td>Yes</td>\n",
       "      <td>No</td>\n",
       "      <td>No internet service</td>\n",
       "      <td>...</td>\n",
       "      <td>No internet service</td>\n",
       "      <td>No internet service</td>\n",
       "      <td>No internet service</td>\n",
       "      <td>No internet service</td>\n",
       "      <td>Two year</td>\n",
       "      <td>No</td>\n",
       "      <td>Mailed check</td>\n",
       "      <td>25.35</td>\n",
       "      <td></td>\n",
       "      <td>No</td>\n",
       "    </tr>\n",
       "    <tr>\n",
       "      <th>4380</th>\n",
       "      <td>2520-SGTTA</td>\n",
       "      <td>Female</td>\n",
       "      <td>0</td>\n",
       "      <td>Yes</td>\n",
       "      <td>Yes</td>\n",
       "      <td>0</td>\n",
       "      <td>Yes</td>\n",
       "      <td>No</td>\n",
       "      <td>No</td>\n",
       "      <td>No internet service</td>\n",
       "      <td>...</td>\n",
       "      <td>No internet service</td>\n",
       "      <td>No internet service</td>\n",
       "      <td>No internet service</td>\n",
       "      <td>No internet service</td>\n",
       "      <td>Two year</td>\n",
       "      <td>No</td>\n",
       "      <td>Mailed check</td>\n",
       "      <td>20.00</td>\n",
       "      <td></td>\n",
       "      <td>No</td>\n",
       "    </tr>\n",
       "    <tr>\n",
       "      <th>488</th>\n",
       "      <td>4472-LVYGI</td>\n",
       "      <td>Female</td>\n",
       "      <td>0</td>\n",
       "      <td>Yes</td>\n",
       "      <td>Yes</td>\n",
       "      <td>0</td>\n",
       "      <td>No</td>\n",
       "      <td>No phone service</td>\n",
       "      <td>DSL</td>\n",
       "      <td>Yes</td>\n",
       "      <td>...</td>\n",
       "      <td>Yes</td>\n",
       "      <td>Yes</td>\n",
       "      <td>Yes</td>\n",
       "      <td>No</td>\n",
       "      <td>Two year</td>\n",
       "      <td>Yes</td>\n",
       "      <td>Bank transfer (automatic)</td>\n",
       "      <td>52.55</td>\n",
       "      <td></td>\n",
       "      <td>No</td>\n",
       "    </tr>\n",
       "    <tr>\n",
       "      <th>1082</th>\n",
       "      <td>4367-NUYAO</td>\n",
       "      <td>Male</td>\n",
       "      <td>0</td>\n",
       "      <td>Yes</td>\n",
       "      <td>Yes</td>\n",
       "      <td>0</td>\n",
       "      <td>Yes</td>\n",
       "      <td>Yes</td>\n",
       "      <td>No</td>\n",
       "      <td>No internet service</td>\n",
       "      <td>...</td>\n",
       "      <td>No internet service</td>\n",
       "      <td>No internet service</td>\n",
       "      <td>No internet service</td>\n",
       "      <td>No internet service</td>\n",
       "      <td>Two year</td>\n",
       "      <td>No</td>\n",
       "      <td>Mailed check</td>\n",
       "      <td>25.75</td>\n",
       "      <td></td>\n",
       "      <td>No</td>\n",
       "    </tr>\n",
       "    <tr>\n",
       "      <th>1340</th>\n",
       "      <td>1371-DWPAZ</td>\n",
       "      <td>Female</td>\n",
       "      <td>0</td>\n",
       "      <td>Yes</td>\n",
       "      <td>Yes</td>\n",
       "      <td>0</td>\n",
       "      <td>No</td>\n",
       "      <td>No phone service</td>\n",
       "      <td>DSL</td>\n",
       "      <td>Yes</td>\n",
       "      <td>...</td>\n",
       "      <td>Yes</td>\n",
       "      <td>Yes</td>\n",
       "      <td>Yes</td>\n",
       "      <td>No</td>\n",
       "      <td>Two year</td>\n",
       "      <td>No</td>\n",
       "      <td>Credit card (automatic)</td>\n",
       "      <td>56.05</td>\n",
       "      <td></td>\n",
       "      <td>No</td>\n",
       "    </tr>\n",
       "    <tr>\n",
       "      <th>6754</th>\n",
       "      <td>2775-SEFEE</td>\n",
       "      <td>Male</td>\n",
       "      <td>0</td>\n",
       "      <td>No</td>\n",
       "      <td>Yes</td>\n",
       "      <td>0</td>\n",
       "      <td>Yes</td>\n",
       "      <td>Yes</td>\n",
       "      <td>DSL</td>\n",
       "      <td>Yes</td>\n",
       "      <td>...</td>\n",
       "      <td>No</td>\n",
       "      <td>Yes</td>\n",
       "      <td>No</td>\n",
       "      <td>No</td>\n",
       "      <td>Two year</td>\n",
       "      <td>Yes</td>\n",
       "      <td>Bank transfer (automatic)</td>\n",
       "      <td>61.90</td>\n",
       "      <td></td>\n",
       "      <td>No</td>\n",
       "    </tr>\n",
       "    <tr>\n",
       "      <th>3331</th>\n",
       "      <td>7644-OMVMY</td>\n",
       "      <td>Male</td>\n",
       "      <td>0</td>\n",
       "      <td>Yes</td>\n",
       "      <td>Yes</td>\n",
       "      <td>0</td>\n",
       "      <td>Yes</td>\n",
       "      <td>No</td>\n",
       "      <td>No</td>\n",
       "      <td>No internet service</td>\n",
       "      <td>...</td>\n",
       "      <td>No internet service</td>\n",
       "      <td>No internet service</td>\n",
       "      <td>No internet service</td>\n",
       "      <td>No internet service</td>\n",
       "      <td>Two year</td>\n",
       "      <td>No</td>\n",
       "      <td>Mailed check</td>\n",
       "      <td>19.85</td>\n",
       "      <td></td>\n",
       "      <td>No</td>\n",
       "    </tr>\n",
       "  </tbody>\n",
       "</table>\n",
       "<p>8 rows × 21 columns</p>\n",
       "</div>"
      ],
      "text/plain": [
       "      customerID  gender  SeniorCitizen Partner Dependents  tenure  \\\n",
       "6670  4075-WKNIU  Female              0     Yes        Yes       0   \n",
       "3826  3213-VVOLG    Male              0     Yes        Yes       0   \n",
       "4380  2520-SGTTA  Female              0     Yes        Yes       0   \n",
       "488   4472-LVYGI  Female              0     Yes        Yes       0   \n",
       "1082  4367-NUYAO    Male              0     Yes        Yes       0   \n",
       "1340  1371-DWPAZ  Female              0     Yes        Yes       0   \n",
       "6754  2775-SEFEE    Male              0      No        Yes       0   \n",
       "3331  7644-OMVMY    Male              0     Yes        Yes       0   \n",
       "\n",
       "     PhoneService     MultipleLines InternetService       OnlineSecurity  ...  \\\n",
       "6670          Yes               Yes             DSL                   No  ...   \n",
       "3826          Yes               Yes              No  No internet service  ...   \n",
       "4380          Yes                No              No  No internet service  ...   \n",
       "488            No  No phone service             DSL                  Yes  ...   \n",
       "1082          Yes               Yes              No  No internet service  ...   \n",
       "1340           No  No phone service             DSL                  Yes  ...   \n",
       "6754          Yes               Yes             DSL                  Yes  ...   \n",
       "3331          Yes                No              No  No internet service  ...   \n",
       "\n",
       "         DeviceProtection          TechSupport          StreamingTV  \\\n",
       "6670                  Yes                  Yes                  Yes   \n",
       "3826  No internet service  No internet service  No internet service   \n",
       "4380  No internet service  No internet service  No internet service   \n",
       "488                   Yes                  Yes                  Yes   \n",
       "1082  No internet service  No internet service  No internet service   \n",
       "1340                  Yes                  Yes                  Yes   \n",
       "6754                   No                  Yes                   No   \n",
       "3331  No internet service  No internet service  No internet service   \n",
       "\n",
       "          StreamingMovies  Contract PaperlessBilling  \\\n",
       "6670                   No  Two year               No   \n",
       "3826  No internet service  Two year               No   \n",
       "4380  No internet service  Two year               No   \n",
       "488                    No  Two year              Yes   \n",
       "1082  No internet service  Two year               No   \n",
       "1340                   No  Two year               No   \n",
       "6754                   No  Two year              Yes   \n",
       "3331  No internet service  Two year               No   \n",
       "\n",
       "                  PaymentMethod MonthlyCharges  TotalCharges Churn  \n",
       "6670               Mailed check          73.35                  No  \n",
       "3826               Mailed check          25.35                  No  \n",
       "4380               Mailed check          20.00                  No  \n",
       "488   Bank transfer (automatic)          52.55                  No  \n",
       "1082               Mailed check          25.75                  No  \n",
       "1340    Credit card (automatic)          56.05                  No  \n",
       "6754  Bank transfer (automatic)          61.90                  No  \n",
       "3331               Mailed check          19.85                  No  \n",
       "\n",
       "[8 rows x 21 columns]"
      ]
     },
     "execution_count": 13,
     "metadata": {},
     "output_type": "execute_result"
    }
   ],
   "source": [
    "# TotalCharges is an integer, not an object, so it has to be converted\n",
    "TotalCharges_missing = train[ pd.to_numeric(train['TotalCharges'], errors='coerce').isnull()]\n",
    "TotalCharges_missing"
   ]
  },
  {
   "cell_type": "markdown",
   "id": "8f0d01a3",
   "metadata": {},
   "source": [
    " In the above table we can see for TotalCharges there are no values."
   ]
  },
  {
   "cell_type": "markdown",
   "id": "7311cde0",
   "metadata": {},
   "source": [
    "# From the all the 'TotalCharges' with missing value, we can see that it has a Tenure of 0"
   ]
  },
  {
   "cell_type": "code",
   "execution_count": 14,
   "id": "65e746c1",
   "metadata": {},
   "outputs": [],
   "source": [
    "\"\"\"\n",
    "this feature is created to see if the totalcharges is based on or related to \n",
    "the total number of services opted by the customer (ie) To see if Customer has \n",
    "not opted for any service then the TotalCharges is left empty/missing .\n",
    "\"\"\"\n",
    "\n",
    "train['total_services_opted'] = (train[[ \n",
    " 'PhoneService',\n",
    " 'MultipleLines',\n",
    " 'InternetService',\n",
    " 'OnlineSecurity',\n",
    " 'OnlineBackup',\n",
    " 'DeviceProtection',\n",
    " 'TechSupport',\n",
    " 'StreamingTV',\n",
    " 'StreamingMovies']] == \"Yes\").sum(axis = 1)"
   ]
  },
  {
   "cell_type": "code",
   "execution_count": 15,
   "id": "33165b26",
   "metadata": {},
   "outputs": [
    {
     "data": {
      "text/html": [
       "<div>\n",
       "<style scoped>\n",
       "    .dataframe tbody tr th:only-of-type {\n",
       "        vertical-align: middle;\n",
       "    }\n",
       "\n",
       "    .dataframe tbody tr th {\n",
       "        vertical-align: top;\n",
       "    }\n",
       "\n",
       "    .dataframe thead th {\n",
       "        text-align: right;\n",
       "    }\n",
       "</style>\n",
       "<table border=\"1\" class=\"dataframe\">\n",
       "  <thead>\n",
       "    <tr style=\"text-align: right;\">\n",
       "      <th></th>\n",
       "      <th>Contract</th>\n",
       "      <th>tenure</th>\n",
       "      <th>MonthlyCharges</th>\n",
       "      <th>TotalCharges</th>\n",
       "      <th>total_services_opted</th>\n",
       "    </tr>\n",
       "  </thead>\n",
       "  <tbody>\n",
       "    <tr>\n",
       "      <th>488</th>\n",
       "      <td>Two year</td>\n",
       "      <td>0</td>\n",
       "      <td>52.55</td>\n",
       "      <td></td>\n",
       "      <td>4</td>\n",
       "    </tr>\n",
       "    <tr>\n",
       "      <th>3826</th>\n",
       "      <td>Two year</td>\n",
       "      <td>0</td>\n",
       "      <td>25.35</td>\n",
       "      <td></td>\n",
       "      <td>2</td>\n",
       "    </tr>\n",
       "    <tr>\n",
       "      <th>6754</th>\n",
       "      <td>Two year</td>\n",
       "      <td>0</td>\n",
       "      <td>61.90</td>\n",
       "      <td></td>\n",
       "      <td>5</td>\n",
       "    </tr>\n",
       "    <tr>\n",
       "      <th>1082</th>\n",
       "      <td>Two year</td>\n",
       "      <td>0</td>\n",
       "      <td>25.75</td>\n",
       "      <td></td>\n",
       "      <td>2</td>\n",
       "    </tr>\n",
       "    <tr>\n",
       "      <th>3331</th>\n",
       "      <td>Two year</td>\n",
       "      <td>0</td>\n",
       "      <td>19.85</td>\n",
       "      <td></td>\n",
       "      <td>1</td>\n",
       "    </tr>\n",
       "    <tr>\n",
       "      <th>6670</th>\n",
       "      <td>Two year</td>\n",
       "      <td>0</td>\n",
       "      <td>73.35</td>\n",
       "      <td></td>\n",
       "      <td>6</td>\n",
       "    </tr>\n",
       "    <tr>\n",
       "      <th>4380</th>\n",
       "      <td>Two year</td>\n",
       "      <td>0</td>\n",
       "      <td>20.00</td>\n",
       "      <td></td>\n",
       "      <td>1</td>\n",
       "    </tr>\n",
       "    <tr>\n",
       "      <th>1340</th>\n",
       "      <td>Two year</td>\n",
       "      <td>0</td>\n",
       "      <td>56.05</td>\n",
       "      <td></td>\n",
       "      <td>5</td>\n",
       "    </tr>\n",
       "    <tr>\n",
       "      <th>3310</th>\n",
       "      <td>Month-to-month</td>\n",
       "      <td>1</td>\n",
       "      <td>78.45</td>\n",
       "      <td>78.45</td>\n",
       "      <td>2</td>\n",
       "    </tr>\n",
       "    <tr>\n",
       "      <th>3917</th>\n",
       "      <td>Month-to-month</td>\n",
       "      <td>1</td>\n",
       "      <td>69.10</td>\n",
       "      <td>69.1</td>\n",
       "      <td>1</td>\n",
       "    </tr>\n",
       "    <tr>\n",
       "      <th>5825</th>\n",
       "      <td>Month-to-month</td>\n",
       "      <td>1</td>\n",
       "      <td>70.30</td>\n",
       "      <td>70.3</td>\n",
       "      <td>1</td>\n",
       "    </tr>\n",
       "    <tr>\n",
       "      <th>710</th>\n",
       "      <td>Month-to-month</td>\n",
       "      <td>1</td>\n",
       "      <td>19.55</td>\n",
       "      <td>19.55</td>\n",
       "      <td>1</td>\n",
       "    </tr>\n",
       "    <tr>\n",
       "      <th>27</th>\n",
       "      <td>Month-to-month</td>\n",
       "      <td>1</td>\n",
       "      <td>30.20</td>\n",
       "      <td>30.2</td>\n",
       "      <td>1</td>\n",
       "    </tr>\n",
       "    <tr>\n",
       "      <th>6080</th>\n",
       "      <td>Month-to-month</td>\n",
       "      <td>1</td>\n",
       "      <td>29.70</td>\n",
       "      <td>29.7</td>\n",
       "      <td>1</td>\n",
       "    </tr>\n",
       "    <tr>\n",
       "      <th>6489</th>\n",
       "      <td>Month-to-month</td>\n",
       "      <td>1</td>\n",
       "      <td>18.85</td>\n",
       "      <td>18.85</td>\n",
       "      <td>1</td>\n",
       "    </tr>\n",
       "    <tr>\n",
       "      <th>1249</th>\n",
       "      <td>Month-to-month</td>\n",
       "      <td>1</td>\n",
       "      <td>45.05</td>\n",
       "      <td>45.05</td>\n",
       "      <td>1</td>\n",
       "    </tr>\n",
       "    <tr>\n",
       "      <th>211</th>\n",
       "      <td>Month-to-month</td>\n",
       "      <td>1</td>\n",
       "      <td>25.25</td>\n",
       "      <td>25.25</td>\n",
       "      <td>0</td>\n",
       "    </tr>\n",
       "    <tr>\n",
       "      <th>1670</th>\n",
       "      <td>Month-to-month</td>\n",
       "      <td>1</td>\n",
       "      <td>50.15</td>\n",
       "      <td>50.15</td>\n",
       "      <td>2</td>\n",
       "    </tr>\n",
       "    <tr>\n",
       "      <th>4837</th>\n",
       "      <td>Month-to-month</td>\n",
       "      <td>1</td>\n",
       "      <td>69.80</td>\n",
       "      <td>69.8</td>\n",
       "      <td>1</td>\n",
       "    </tr>\n",
       "    <tr>\n",
       "      <th>295</th>\n",
       "      <td>Month-to-month</td>\n",
       "      <td>1</td>\n",
       "      <td>20.25</td>\n",
       "      <td>20.25</td>\n",
       "      <td>1</td>\n",
       "    </tr>\n",
       "    <tr>\n",
       "      <th>2388</th>\n",
       "      <td>Month-to-month</td>\n",
       "      <td>1</td>\n",
       "      <td>55.45</td>\n",
       "      <td>55.45</td>\n",
       "      <td>2</td>\n",
       "    </tr>\n",
       "    <tr>\n",
       "      <th>5450</th>\n",
       "      <td>Month-to-month</td>\n",
       "      <td>1</td>\n",
       "      <td>84.65</td>\n",
       "      <td>84.65</td>\n",
       "      <td>3</td>\n",
       "    </tr>\n",
       "    <tr>\n",
       "      <th>6816</th>\n",
       "      <td>Month-to-month</td>\n",
       "      <td>1</td>\n",
       "      <td>70.30</td>\n",
       "      <td>70.3</td>\n",
       "      <td>1</td>\n",
       "    </tr>\n",
       "    <tr>\n",
       "      <th>4172</th>\n",
       "      <td>Month-to-month</td>\n",
       "      <td>1</td>\n",
       "      <td>19.50</td>\n",
       "      <td>19.5</td>\n",
       "      <td>1</td>\n",
       "    </tr>\n",
       "    <tr>\n",
       "      <th>3888</th>\n",
       "      <td>Month-to-month</td>\n",
       "      <td>1</td>\n",
       "      <td>80.15</td>\n",
       "      <td>80.15</td>\n",
       "      <td>2</td>\n",
       "    </tr>\n",
       "    <tr>\n",
       "      <th>1651</th>\n",
       "      <td>Month-to-month</td>\n",
       "      <td>1</td>\n",
       "      <td>79.10</td>\n",
       "      <td>79.1</td>\n",
       "      <td>2</td>\n",
       "    </tr>\n",
       "    <tr>\n",
       "      <th>232</th>\n",
       "      <td>Month-to-month</td>\n",
       "      <td>1</td>\n",
       "      <td>84.60</td>\n",
       "      <td>84.6</td>\n",
       "      <td>3</td>\n",
       "    </tr>\n",
       "    <tr>\n",
       "      <th>4090</th>\n",
       "      <td>Month-to-month</td>\n",
       "      <td>1</td>\n",
       "      <td>49.90</td>\n",
       "      <td>49.9</td>\n",
       "      <td>2</td>\n",
       "    </tr>\n",
       "    <tr>\n",
       "      <th>287</th>\n",
       "      <td>Month-to-month</td>\n",
       "      <td>1</td>\n",
       "      <td>70.00</td>\n",
       "      <td>70</td>\n",
       "      <td>1</td>\n",
       "    </tr>\n",
       "    <tr>\n",
       "      <th>2821</th>\n",
       "      <td>Month-to-month</td>\n",
       "      <td>1</td>\n",
       "      <td>74.40</td>\n",
       "      <td>74.4</td>\n",
       "      <td>2</td>\n",
       "    </tr>\n",
       "  </tbody>\n",
       "</table>\n",
       "</div>"
      ],
      "text/plain": [
       "            Contract  tenure  MonthlyCharges TotalCharges  \\\n",
       "488         Two year       0           52.55                \n",
       "3826        Two year       0           25.35                \n",
       "6754        Two year       0           61.90                \n",
       "1082        Two year       0           25.75                \n",
       "3331        Two year       0           19.85                \n",
       "6670        Two year       0           73.35                \n",
       "4380        Two year       0           20.00                \n",
       "1340        Two year       0           56.05                \n",
       "3310  Month-to-month       1           78.45        78.45   \n",
       "3917  Month-to-month       1           69.10         69.1   \n",
       "5825  Month-to-month       1           70.30         70.3   \n",
       "710   Month-to-month       1           19.55        19.55   \n",
       "27    Month-to-month       1           30.20         30.2   \n",
       "6080  Month-to-month       1           29.70         29.7   \n",
       "6489  Month-to-month       1           18.85        18.85   \n",
       "1249  Month-to-month       1           45.05        45.05   \n",
       "211   Month-to-month       1           25.25        25.25   \n",
       "1670  Month-to-month       1           50.15        50.15   \n",
       "4837  Month-to-month       1           69.80         69.8   \n",
       "295   Month-to-month       1           20.25        20.25   \n",
       "2388  Month-to-month       1           55.45        55.45   \n",
       "5450  Month-to-month       1           84.65        84.65   \n",
       "6816  Month-to-month       1           70.30         70.3   \n",
       "4172  Month-to-month       1           19.50         19.5   \n",
       "3888  Month-to-month       1           80.15        80.15   \n",
       "1651  Month-to-month       1           79.10         79.1   \n",
       "232   Month-to-month       1           84.60         84.6   \n",
       "4090  Month-to-month       1           49.90         49.9   \n",
       "287   Month-to-month       1           70.00           70   \n",
       "2821  Month-to-month       1           74.40         74.4   \n",
       "\n",
       "      total_services_opted  \n",
       "488                      4  \n",
       "3826                     2  \n",
       "6754                     5  \n",
       "1082                     2  \n",
       "3331                     1  \n",
       "6670                     6  \n",
       "4380                     1  \n",
       "1340                     5  \n",
       "3310                     2  \n",
       "3917                     1  \n",
       "5825                     1  \n",
       "710                      1  \n",
       "27                       1  \n",
       "6080                     1  \n",
       "6489                     1  \n",
       "1249                     1  \n",
       "211                      0  \n",
       "1670                     2  \n",
       "4837                     1  \n",
       "295                      1  \n",
       "2388                     2  \n",
       "5450                     3  \n",
       "6816                     1  \n",
       "4172                     1  \n",
       "3888                     2  \n",
       "1651                     2  \n",
       "232                      3  \n",
       "4090                     2  \n",
       "287                      1  \n",
       "2821                     2  "
      ]
     },
     "execution_count": 15,
     "metadata": {},
     "output_type": "execute_result"
    }
   ],
   "source": [
    "train.loc[:,['Contract','tenure', 'MonthlyCharges', 'TotalCharges','total_services_opted']].sort_values(by=['tenure']).head(30)"
   ]
  },
  {
   "cell_type": "code",
   "execution_count": null,
   "id": "6123e4cb",
   "metadata": {},
   "outputs": [],
   "source": [
    "From the above we can understand that approx (TotalCharges) = tenure * MonthlyCharges\n",
    "\n",
    "So we can replace the missing values with same formula"
   ]
  },
  {
   "cell_type": "code",
   "execution_count": 16,
   "id": "b303e078",
   "metadata": {},
   "outputs": [
    {
     "name": "stdout",
     "output_type": "stream",
     "text": [
      "Count of Missing Values in TotalCharges is 8\n"
     ]
    }
   ],
   "source": [
    "print(\"Count of Missing Values in TotalCharges is\",TotalCharges_missing.shape[0])"
   ]
  },
  {
   "cell_type": "code",
   "execution_count": null,
   "id": "60f8a02f",
   "metadata": {},
   "outputs": [],
   "source": [
    "Count of Missing Values in TotalCharges is 8"
   ]
  },
  {
   "cell_type": "code",
   "execution_count": 17,
   "id": "1282dc29",
   "metadata": {},
   "outputs": [
    {
     "name": "stdout",
     "output_type": "stream",
     "text": [
      "'   '\n"
     ]
    }
   ],
   "source": [
    "print(\"'\",train.loc[488]['TotalCharges'],\"'\")\n",
    "# this shows that around 11 rows contain empty spaces, it is NULL value"
   ]
  },
  {
   "cell_type": "code",
   "execution_count": 18,
   "id": "b1a9b9e3",
   "metadata": {},
   "outputs": [
    {
     "data": {
      "text/plain": [
       "Int64Index([6670, 3826, 4380, 488, 1082, 1340, 6754, 3331], dtype='int64')"
      ]
     },
     "execution_count": 18,
     "metadata": {},
     "output_type": "execute_result"
    }
   ],
   "source": [
    "# the following are the index numbers of the rows with missing values\n",
    "TotalCharges_missing.index"
   ]
  },
  {
   "cell_type": "code",
   "execution_count": 19,
   "id": "abdb1aca",
   "metadata": {},
   "outputs": [],
   "source": [
    "for idx in TotalCharges_missing.index:\n",
    "  train.loc[idx,'TotalCharges'] = train.loc[idx]['tenure'] * train.loc[idx]['MonthlyCharges']"
   ]
  },
  {
   "cell_type": "code",
   "execution_count": 20,
   "id": "aacd5dcd",
   "metadata": {},
   "outputs": [
    {
     "name": "stdout",
     "output_type": "stream",
     "text": [
      "Index:  3826 - It's TotalCharges is 0.0\n"
     ]
    }
   ],
   "source": [
    "print(\"Index: \", TotalCharges_missing.index[1],\"- It's TotalCharges is\",train.loc[TotalCharges_missing.index[1],'TotalCharges'])"
   ]
  },
  {
   "cell_type": "code",
   "execution_count": 21,
   "id": "4bc19b8b",
   "metadata": {},
   "outputs": [
    {
     "data": {
      "text/plain": [
       "dtype('float64')"
      ]
     },
     "execution_count": 21,
     "metadata": {},
     "output_type": "execute_result"
    }
   ],
   "source": [
    "# Convert the Object DataType of \"TotalCharges\" to Float\n",
    "train['TotalCharges'] = train['TotalCharges'].astype(str).astype(float)\n",
    "train['TotalCharges'].dtype"
   ]
  },
  {
   "cell_type": "markdown",
   "id": "0e8fc082",
   "metadata": {},
   "source": [
    "# Now we do not have the need of the feature \"total_services_opted\" created by us, as it did not provide any information with respect to TotalCharges. So let us drop it."
   ]
  },
  {
   "cell_type": "code",
   "execution_count": 22,
   "id": "17d55637",
   "metadata": {},
   "outputs": [],
   "source": [
    "train.drop('total_services_opted', axis = 1, inplace = True)"
   ]
  },
  {
   "cell_type": "code",
   "execution_count": 23,
   "id": "98656e4e",
   "metadata": {},
   "outputs": [
    {
     "data": {
      "text/plain": [
       "['customerID',\n",
       " 'gender',\n",
       " 'Partner',\n",
       " 'Dependents',\n",
       " 'SeniorCitizen',\n",
       " 'PhoneService',\n",
       " 'MultipleLines',\n",
       " 'InternetService',\n",
       " 'OnlineSecurity',\n",
       " 'OnlineBackup',\n",
       " 'DeviceProtection',\n",
       " 'TechSupport',\n",
       " 'StreamingTV',\n",
       " 'StreamingMovies',\n",
       " 'Contract',\n",
       " 'PaperlessBilling',\n",
       " 'PaymentMethod',\n",
       " 'Churn']"
      ]
     },
     "execution_count": 23,
     "metadata": {},
     "output_type": "execute_result"
    }
   ],
   "source": [
    "# creating separate lists for categorical and numerical features  \n",
    "categorical_features = []\n",
    "numerical_features = []\n",
    "for feature in train.columns:\n",
    "  if train[feature].dtype == 'O':\n",
    "    categorical_features.append(feature)\n",
    "  else:\n",
    "    numerical_features.append(feature)\n",
    "numerical_features.remove(\"SeniorCitizen\")\n",
    "categorical_features.insert(4, \"SeniorCitizen\") # inseart 'SeniorCitizen' in 4th place\n",
    "categorical_features"
   ]
  },
  {
   "cell_type": "code",
   "execution_count": 25,
   "id": "44915bc9",
   "metadata": {},
   "outputs": [],
   "source": [
    "def count_percentage_subplots(features_list, rows, cols, huee, dataa, x_ticks_rotation = 0, figsize_row = 14, figsize_col = 9 , prcnt_color = 'white', prcnt_height = -100 ):\n",
    "  fig = plt.figure(figsize = (figsize_row, figsize_col))\n",
    "  ax_list = []\n",
    "  for i in range(1,cols * rows+1):\n",
    "    ax_list.append(\"ax\"+str(i))\n",
    "  for index,ax_name in enumerate(ax_list): # for features \n",
    "    ax_name = plt.subplot(rows, cols, index+1)\n",
    "    feature = features_list[index]\n",
    "    sns.countplot(x=feature , hue = huee, data= dataa, order = sorted(list(dataa[feature].unique())))\n",
    "    plt.xticks(rotation= x_ticks_rotation)\n",
    "    for index,p in enumerate(ax_name.patches):\n",
    "      height = p.get_height()\n",
    "      temp = list(round(dataa.groupby(huee)[feature].value_counts(sort = False)/len(dataa)*100,2))\n",
    "      ax_name.text(p.get_x()+p.get_width()/2., height+prcnt_height, str(temp[index]) + \"%\", horizontalalignment='center', fontsize=11, color=prcnt_color, weight = 'heavy') \n",
    "      \n",
    "  fig. tight_layout(pad=4.0)\n",
    "  plt.show()"
   ]
  },
  {
   "cell_type": "code",
   "execution_count": 26,
   "id": "0b2275db",
   "metadata": {},
   "outputs": [
    {
     "data": {
      "image/png": "[encoded data removed]",
      "text/plain": [
       "<Figure size 1008x576 with 4 Axes>"
      ]
     },
     "metadata": {
      "needs_background": "light"
     },
     "output_type": "display_data"
    }
   ],
   "source": [
    "count_percentage_subplots(['gender', 'Partner', 'Dependents', 'SeniorCitizen'],2,2, \"Churn\", train, figsize_row = 14, figsize_col = 8 )"
   ]
  },
  {
   "cell_type": "code",
   "execution_count": null,
   "id": "3d35a948",
   "metadata": {},
   "outputs": [],
   "source": [
    "Observation:\n",
    "\n",
    "1) The ratio of male and female customer are same\n",
    "2) Customers without Partner or dependent churn more than those who dont"
   ]
  },
  {
   "cell_type": "code",
   "execution_count": 27,
   "id": "b3ca342b",
   "metadata": {},
   "outputs": [
    {
     "data": {
      "image/png": "[encoded data removed]",
      "text/plain": [
       "<Figure size 864x360 with 2 Axes>"
      ]
     },
     "metadata": {
      "needs_background": "light"
     },
     "output_type": "display_data"
    }
   ],
   "source": [
    "count_percentage_subplots(['PhoneService','MultipleLines'],1,2, \"Churn\", train, figsize_row = 12, figsize_col = 5 )"
   ]
  },
  {
   "cell_type": "code",
   "execution_count": 28,
   "id": "a7164cc2",
   "metadata": {},
   "outputs": [
    {
     "data": {
      "image/png": "[encoded data removed]",
      "text/plain": [
       "<Figure size 504x360 with 1 Axes>"
      ]
     },
     "metadata": {
      "needs_background": "light"
     },
     "output_type": "display_data"
    }
   ],
   "source": [
    "count_percentage_subplots(['InternetService'],1,1, \"Churn\", train, figsize_row = 7, figsize_col = 5 )"
   ]
  },
  {
   "cell_type": "code",
   "execution_count": null,
   "id": "f36f0eef",
   "metadata": {},
   "outputs": [],
   "source": [
    "Observation:\n",
    "\n",
    "1) Customer with \"Fiber optic\" have high churn rate"
   ]
  },
  {
   "cell_type": "code",
   "execution_count": 28,
   "id": "d6b03123",
   "metadata": {},
   "outputs": [
    {
     "data": {
      "image/png": "[encoded data removed]",
      "text/plain": [
       "<Figure size 1296x720 with 6 Axes>"
      ]
     },
     "metadata": {
      "needs_background": "light"
     },
     "output_type": "display_data"
    }
   ],
   "source": [
    "count_percentage_subplots(['OnlineSecurity', 'OnlineBackup', 'DeviceProtection', 'TechSupport', 'StreamingTV', 'StreamingMovies'],\n",
    "                         2,3, \"Churn\", train, figsize_row = 18, figsize_col = 10 )"
   ]
  },
  {
   "cell_type": "code",
   "execution_count": null,
   "id": "7b80484e",
   "metadata": {},
   "outputs": [],
   "source": [
    "Observation:\n",
    "\n",
    "A Customer who has internet service but does not have any of the following are more likely to churn.\n",
    "\"OnlineBackup\"\n",
    "\"DeviceProtection\"\n",
    "\"Online Security\"\n",
    "\"TechSupport\""
   ]
  },
  {
   "cell_type": "code",
   "execution_count": 29,
   "id": "b89e39ae",
   "metadata": {},
   "outputs": [
    {
     "data": {
      "image/png": "[encoded data removed]",
      "text/plain": [
       "<Figure size 1152x432 with 3 Axes>"
      ]
     },
     "metadata": {
      "needs_background": "light"
     },
     "output_type": "display_data"
    }
   ],
   "source": [
    "  count_percentage_subplots(['Contract','PaperlessBilling','PaymentMethod'],1,3, \"Churn\", train, figsize_row =16 , figsize_col = 6 ,x_ticks_rotation = 25,prcnt_color = 'black')\n"
   ]
  },
  {
   "cell_type": "markdown",
   "id": "3297974b",
   "metadata": {},
   "source": [
    "# Observation:\n",
    "\n",
    "1)Customers with month-to-month contract have a high churn rate with 23.54%\n",
    "\n",
    "2)Check and cheque are examples of differences in spelling between British and American English. So Payment Method \"Electronic check\" and \"Mailed check\" are manual method of payements and \"Credit card\" and \"Bank transfer\" are automatic payments which does not involve the customer for each payments.\n",
    "\n",
    "3)Customer paying with electronic check also have a high churn rate around 15.35%....this explain that why the churn of customers with paper billing is high."
   ]
  },
  {
   "cell_type": "code",
   "execution_count": 30,
   "id": "c4e42e19",
   "metadata": {},
   "outputs": [
    {
     "data": {
      "image/png": "[encoded data removed]",
      "text/plain": [
       "<Figure size 720x288 with 2 Axes>"
      ]
     },
     "metadata": {
      "needs_background": "light"
     },
     "output_type": "display_data"
    },
    {
     "name": "stdout",
     "output_type": "stream",
     "text": [
      "\n",
      "\n"
     ]
    },
    {
     "data": {
      "image/png": "[encoded data removed]",
      "text/plain": [
       "<Figure size 720x288 with 2 Axes>"
      ]
     },
     "metadata": {
      "needs_background": "light"
     },
     "output_type": "display_data"
    },
    {
     "name": "stdout",
     "output_type": "stream",
     "text": [
      "\n",
      "\n"
     ]
    },
    {
     "data": {
      "image/png": "[encoded data removed]",
      "text/plain": [
       "<Figure size 720x288 with 2 Axes>"
      ]
     },
     "metadata": {
      "needs_background": "light"
     },
     "output_type": "display_data"
    },
    {
     "name": "stdout",
     "output_type": "stream",
     "text": [
      "\n",
      "\n"
     ]
    }
   ],
   "source": [
    "for feature in numerical_features[0:3]:\n",
    "\n",
    "  fig = plt.figure(figsize = (10,4))\n",
    "  \n",
    "  ax1 = plt.subplot(1,2,1)\n",
    "  ax1.set_title(feature)\n",
    "  plt.hist(train[feature], bins =20)\n",
    "  \n",
    "  ax2 = plt.subplot(1,2,2)\n",
    "  plt.hist(train[train['Churn'] == 'Yes'][feature], bins = 20,alpha = 0.5, label = 'Churn', density = True)\n",
    "  plt.hist(train[train['Churn'] == 'No'][feature], bins = 20,alpha = 0.5, label = 'No Churn', density = True)\n",
    "  # ax2.hist(train[feature], hue = train['Churn'],bins =20)\n",
    "  ax2.set_title(feature+\"Distribution - Churn VS No-Churn\")\n",
    "  ax2.legend(loc = 'upper right')\n",
    "  plt.show()\n",
    "  print(\"\\n\")\n"
   ]
  },
  {
   "cell_type": "code",
   "execution_count": null,
   "id": "6baf9df9",
   "metadata": {},
   "outputs": [],
   "source": [
    "Observation:\n",
    "\n",
    "1)We can see that the Churn customers have a shorter tenure, which means that the newly joined customers are not satisfied with our services or facing some issues.\n",
    "2)The Churn Customer have a high monthly charges than those who don't."
   ]
  },
  {
   "cell_type": "markdown",
   "id": "d92f95d4",
   "metadata": {},
   "source": [
    "# Outlier Detection"
   ]
  },
  {
   "cell_type": "code",
   "execution_count": 31,
   "id": "13407ae6",
   "metadata": {},
   "outputs": [
    {
     "data": {
      "image/png": "[encoded data removed]",
      "text/plain": [
       "<Figure size 864x288 with 2 Axes>"
      ]
     },
     "metadata": {
      "needs_background": "light"
     },
     "output_type": "display_data"
    },
    {
     "name": "stdout",
     "output_type": "stream",
     "text": [
      "\n",
      "\n"
     ]
    },
    {
     "data": {
      "image/png": "[encoded data removed]",
      "text/plain": [
       "<Figure size 864x288 with 2 Axes>"
      ]
     },
     "metadata": {
      "needs_background": "light"
     },
     "output_type": "display_data"
    },
    {
     "name": "stdout",
     "output_type": "stream",
     "text": [
      "\n",
      "\n"
     ]
    },
    {
     "data": {
      "image/png": "[encoded data removed]",
      "text/plain": [
       "<Figure size 864x288 with 2 Axes>"
      ]
     },
     "metadata": {
      "needs_background": "light"
     },
     "output_type": "display_data"
    },
    {
     "name": "stdout",
     "output_type": "stream",
     "text": [
      "\n",
      "\n"
     ]
    }
   ],
   "source": [
    "for feature in numerical_features:\n",
    "  fig, axes = plt.subplots(1,2,figsize=(12,4))\n",
    "  sns.boxplot(x = feature , data = train, ax=axes[0], palette=\"Set2\")\n",
    "  sns.boxplot(x = feature , data = train, y = 'Churn',ax=axes[1])\n",
    "  plt.show()\n",
    "  print(\"\\n\")"
   ]
  },
  {
   "cell_type": "code",
   "execution_count": null,
   "id": "cb357da9",
   "metadata": {},
   "outputs": [],
   "source": [
    "Observation:\n",
    "\n",
    "1) From the left images we can observe that all three numerical features do not have any outliers.\n",
    "\n",
    "2) From the right images we can see that\n",
    "\n",
    "Churn Customers have very short tenure\n",
    "Churn Customer Median Monthy charges is greater than Non Churn Customer\n",
    "The Churn Customer have less Total Charges"
   ]
  },
  {
   "cell_type": "markdown",
   "id": "27a7badb",
   "metadata": {},
   "source": [
    "# Feature Engineering\n",
    "Using EDA we have understood how the train data is. So let us start the preprocessing steps."
   ]
  },
  {
   "cell_type": "markdown",
   "id": "a59c7ed9",
   "metadata": {},
   "source": [
    "# Renaming Some Feature"
   ]
  },
  {
   "cell_type": "code",
   "execution_count": 32,
   "id": "3056e4a7",
   "metadata": {},
   "outputs": [],
   "source": [
    "x_train.rename(columns={'gender':'Gender'\n",
    "                       ,'Contract':'ContractType'\n",
    "                       ,'tenure':'Tenure'\n",
    "                      }\n",
    "              ,inplace=True)"
   ]
  },
  {
   "cell_type": "code",
   "execution_count": 33,
   "id": "607c6fd0",
   "metadata": {},
   "outputs": [],
   "source": [
    "x_test.rename(columns={'gender':'Gender'\n",
    "                       ,'Contract':'ContractType'\n",
    "                       ,'tenure':'Tenure'\n",
    "                      }\n",
    "              ,inplace=True)"
   ]
  },
  {
   "cell_type": "code",
   "execution_count": 34,
   "id": "2967025b",
   "metadata": {},
   "outputs": [],
   "source": [
    "# renaming these features in train dataframe will be helpful for some of the preprocessing steps\n",
    "train.rename(columns={'gender':'Gender'\n",
    "                       ,'Contract':'ContractType'\n",
    "                       ,'tenure':'Tenure'\n",
    "                      }\n",
    "              ,inplace=True)"
   ]
  },
  {
   "cell_type": "markdown",
   "id": "4574b4c4",
   "metadata": {},
   "source": [
    "# Feature Selection Using Statistical Test\n",
    "T-TEST FOR FEATURE SELECTION OF CATEGORICAL (TARGET) VS CONTINUOUS FEATURE\n",
    "\n",
    "Here T-Test is taken because the feature churn has only two groups \"Churn\" and \"Not Churn\""
   ]
  },
  {
   "cell_type": "code",
   "execution_count": 35,
   "id": "8603dd46",
   "metadata": {},
   "outputs": [],
   "source": [
    "def TTest(data, target, Continuous_features):\n",
    "\n",
    "    RemoveFeatures=[]\n",
    "    \n",
    "    print('The T-Test result are : ')\n",
    "    for feature in Continuous_features:\n",
    "        feature_data = data.groupby(target)[feature].apply(list)\n",
    "        pvalue = ttest_ind(*feature_data)[1]\n",
    "        # If the T-Test P-Value is <0.05, that means we reject H0\n",
    "        if (pvalue < 0.05):\n",
    "            print(feature, 'is correlated with', target , '| P-Value:', pvalue)\n",
    "        else:\n",
    "            print(feature, 'is NOT correlated with', target , '| P-Value:', pvalue)\n",
    "            RemoveFeatures.append(feature)\n",
    "    print(\"\\n\\n\")\n",
    "    return(RemoveFeatures)"
   ]
  },
  {
   "cell_type": "code",
   "execution_count": 36,
   "id": "e6f9fd99",
   "metadata": {},
   "outputs": [
    {
     "name": "stdout",
     "output_type": "stream",
     "text": [
      "The T-Test result are : \n",
      "Tenure is correlated with Churn | P-Value: 6.745011646431831e-146\n",
      "MonthlyCharges is correlated with Churn | P-Value: 1.5695206211219092e-47\n",
      "TotalCharges is correlated with Churn | P-Value: 5.629487289697648e-45\n",
      "\n",
      "\n",
      "\n",
      "Features to be removed are : []\n"
     ]
    }
   ],
   "source": [
    "# Calling the function to check which categorical variables are correlated with target\n",
    "Continuous_features =['Tenure', 'MonthlyCharges', 'TotalCharges']\n",
    "remove_features_con = TTest(data=train, target='Churn', Continuous_features = Continuous_features)\n",
    "print(\"Features to be removed are :\",remove_features_con)"
   ]
  },
  {
   "cell_type": "markdown",
   "id": "b9ea7086",
   "metadata": {},
   "source": [
    "# CHI SQUARE TEST FOR FEATURE SELECTION OF CATEGORICAL (TARGET) VS CATEGORICAL FEATURE"
   ]
  },
  {
   "cell_type": "code",
   "execution_count": 37,
   "id": "8859189a",
   "metadata": {},
   "outputs": [],
   "source": [
    "# creating new list of categorical features after changing spelling of features\n",
    "categorical_features= list(x_train.columns)\n",
    "for con in ['Tenure', 'MonthlyCharges', 'TotalCharges']:\n",
    "  categorical_features.remove(con)"
   ]
  },
  {
   "cell_type": "code",
   "execution_count": 38,
   "id": "b2005856",
   "metadata": {},
   "outputs": [],
   "source": [
    "# Writing a function to find the correlation of all categorical variables with the Target variable\n",
    "def ChiSquare( data, target, categorical_features):\n",
    "    \n",
    "    # Creating an empty list of final selected predictors\n",
    "    RemoveFeatures=[]\n",
    "\n",
    "    print('The ChiSquare result are : \\n')\n",
    "    for feature in categorical_features:\n",
    "        CrossTabResult=pd.crosstab(index = data[target], columns=data[feature])\n",
    "        pvalue = chi2_contingency(CrossTabResult)[1]\n",
    "        # print(Result)\n",
    "        # If the ChiSquare P-Value is <0.05, that means we reject H0\n",
    "        if (pvalue < 0.05):\n",
    "            print(feature, 'is correlated with', target, '| P-Value:', pvalue)\n",
    "        else:\n",
    "            print(feature, 'is \\033[1m NOT \\033[0m correlated with', target, '| P-Value:', pvalue)   \n",
    "            RemoveFeatures.append(feature)     \n",
    "    print(\"\\n\\n\")\n",
    "    return(RemoveFeatures)"
   ]
  },
  {
   "cell_type": "code",
   "execution_count": 39,
   "id": "4a1c67d5",
   "metadata": {},
   "outputs": [
    {
     "name": "stdout",
     "output_type": "stream",
     "text": [
      "The ChiSquare result are : \n",
      "\n",
      "customerID is \u001b[1m NOT \u001b[0m correlated with Churn | P-Value: 0.4935308220743649\n",
      "Gender is \u001b[1m NOT \u001b[0m correlated with Churn | P-Value: 0.9133053640134722\n",
      "SeniorCitizen is correlated with Churn | P-Value: 1.272738902968206e-26\n",
      "Partner is correlated with Churn | P-Value: 3.2051580573988954e-26\n",
      "Dependents is correlated with Churn | P-Value: 1.5736459837130873e-33\n",
      "PhoneService is \u001b[1m NOT \u001b[0m correlated with Churn | P-Value: 0.11545819531090502\n",
      "MultipleLines is correlated with Churn | P-Value: 0.004920729444037898\n",
      "InternetService is correlated with Churn | P-Value: 7.816331813947432e-122\n",
      "OnlineSecurity is correlated with Churn | P-Value: 3.1008969206083305e-142\n",
      "OnlineBackup is correlated with Churn | P-Value: 1.7543681370437227e-100\n",
      "DeviceProtection is correlated with Churn | P-Value: 1.0712098242548213e-91\n",
      "TechSupport is correlated with Churn | P-Value: 7.966555837638945e-139\n",
      "StreamingTV is correlated with Churn | P-Value: 2.9763744289949415e-62\n",
      "StreamingMovies is correlated with Churn | P-Value: 1.5926291887016254e-62\n",
      "ContractType is correlated with Churn | P-Value: 8.584733326965403e-193\n",
      "PaperlessBilling is correlated with Churn | P-Value: 1.1159348460957409e-48\n",
      "PaymentMethod is correlated with Churn | P-Value: 2.289591507114095e-106\n",
      "\n",
      "\n",
      "\n",
      "Features to be removed are : ['customerID', 'Gender', 'PhoneService']\n"
     ]
    }
   ],
   "source": [
    "remove_features_cat = ChiSquare(data = train, target = 'Churn', categorical_features = categorical_features)\n",
    "print(\"Features to be removed are :\",remove_features_cat)"
   ]
  },
  {
   "cell_type": "markdown",
   "id": "7d095178",
   "metadata": {},
   "source": [
    "# Dropping Variables"
   ]
  },
  {
   "cell_type": "code",
   "execution_count": 40,
   "id": "c6534e00",
   "metadata": {},
   "outputs": [
    {
     "data": {
      "text/html": [
       "<div>\n",
       "<style scoped>\n",
       "    .dataframe tbody tr th:only-of-type {\n",
       "        vertical-align: middle;\n",
       "    }\n",
       "\n",
       "    .dataframe tbody tr th {\n",
       "        vertical-align: top;\n",
       "    }\n",
       "\n",
       "    .dataframe thead th {\n",
       "        text-align: right;\n",
       "    }\n",
       "</style>\n",
       "<table border=\"1\" class=\"dataframe\">\n",
       "  <thead>\n",
       "    <tr style=\"text-align: right;\">\n",
       "      <th></th>\n",
       "      <th>SeniorCitizen</th>\n",
       "      <th>Partner</th>\n",
       "      <th>Dependents</th>\n",
       "      <th>Tenure</th>\n",
       "      <th>MultipleLines</th>\n",
       "      <th>InternetService</th>\n",
       "      <th>OnlineSecurity</th>\n",
       "      <th>OnlineBackup</th>\n",
       "      <th>DeviceProtection</th>\n",
       "      <th>TechSupport</th>\n",
       "      <th>StreamingTV</th>\n",
       "      <th>StreamingMovies</th>\n",
       "      <th>ContractType</th>\n",
       "      <th>PaperlessBilling</th>\n",
       "      <th>PaymentMethod</th>\n",
       "      <th>MonthlyCharges</th>\n",
       "      <th>TotalCharges</th>\n",
       "    </tr>\n",
       "  </thead>\n",
       "  <tbody>\n",
       "    <tr>\n",
       "      <th>6661</th>\n",
       "      <td>0</td>\n",
       "      <td>Yes</td>\n",
       "      <td>Yes</td>\n",
       "      <td>72</td>\n",
       "      <td>No phone service</td>\n",
       "      <td>DSL</td>\n",
       "      <td>No</td>\n",
       "      <td>Yes</td>\n",
       "      <td>No</td>\n",
       "      <td>Yes</td>\n",
       "      <td>Yes</td>\n",
       "      <td>Yes</td>\n",
       "      <td>Two year</td>\n",
       "      <td>No</td>\n",
       "      <td>Credit card (automatic)</td>\n",
       "      <td>53.65</td>\n",
       "      <td>3784</td>\n",
       "    </tr>\n",
       "    <tr>\n",
       "      <th>4811</th>\n",
       "      <td>0</td>\n",
       "      <td>No</td>\n",
       "      <td>No</td>\n",
       "      <td>4</td>\n",
       "      <td>No</td>\n",
       "      <td>DSL</td>\n",
       "      <td>No</td>\n",
       "      <td>No</td>\n",
       "      <td>No</td>\n",
       "      <td>No</td>\n",
       "      <td>No</td>\n",
       "      <td>No</td>\n",
       "      <td>Month-to-month</td>\n",
       "      <td>Yes</td>\n",
       "      <td>Mailed check</td>\n",
       "      <td>46.00</td>\n",
       "      <td>193.6</td>\n",
       "    </tr>\n",
       "    <tr>\n",
       "      <th>2193</th>\n",
       "      <td>0</td>\n",
       "      <td>No</td>\n",
       "      <td>Yes</td>\n",
       "      <td>56</td>\n",
       "      <td>No</td>\n",
       "      <td>No</td>\n",
       "      <td>No internet service</td>\n",
       "      <td>No internet service</td>\n",
       "      <td>No internet service</td>\n",
       "      <td>No internet service</td>\n",
       "      <td>No internet service</td>\n",
       "      <td>No internet service</td>\n",
       "      <td>One year</td>\n",
       "      <td>Yes</td>\n",
       "      <td>Mailed check</td>\n",
       "      <td>21.20</td>\n",
       "      <td>1238.65</td>\n",
       "    </tr>\n",
       "  </tbody>\n",
       "</table>\n",
       "</div>"
      ],
      "text/plain": [
       "      SeniorCitizen Partner Dependents  Tenure     MultipleLines  \\\n",
       "6661              0     Yes        Yes      72  No phone service   \n",
       "4811              0      No         No       4                No   \n",
       "2193              0      No        Yes      56                No   \n",
       "\n",
       "     InternetService       OnlineSecurity         OnlineBackup  \\\n",
       "6661             DSL                   No                  Yes   \n",
       "4811             DSL                   No                   No   \n",
       "2193              No  No internet service  No internet service   \n",
       "\n",
       "         DeviceProtection          TechSupport          StreamingTV  \\\n",
       "6661                   No                  Yes                  Yes   \n",
       "4811                   No                   No                   No   \n",
       "2193  No internet service  No internet service  No internet service   \n",
       "\n",
       "          StreamingMovies    ContractType PaperlessBilling  \\\n",
       "6661                  Yes        Two year               No   \n",
       "4811                   No  Month-to-month              Yes   \n",
       "2193  No internet service        One year              Yes   \n",
       "\n",
       "                PaymentMethod  MonthlyCharges TotalCharges  \n",
       "6661  Credit card (automatic)           53.65         3784  \n",
       "4811             Mailed check           46.00        193.6  \n",
       "2193             Mailed check           21.20      1238.65  "
      ]
     },
     "execution_count": 40,
     "metadata": {},
     "output_type": "execute_result"
    }
   ],
   "source": [
    "x_train.drop(remove_features_cat, axis = 1, inplace = True)\n",
    "x_train.head(3)"
   ]
  },
  {
   "cell_type": "code",
   "execution_count": 41,
   "id": "86323ed7",
   "metadata": {},
   "outputs": [],
   "source": [
    "x_test.drop(remove_features_cat, axis = 1, inplace = True )"
   ]
  },
  {
   "cell_type": "markdown",
   "id": "a96a1d0c",
   "metadata": {},
   "source": [
    "# Encoding of Categorical Features"
   ]
  },
  {
   "cell_type": "code",
   "execution_count": 42,
   "id": "3054a6b1",
   "metadata": {},
   "outputs": [
    {
     "data": {
      "text/plain": [
       "6661    0\n",
       "4811    1\n",
       "2193    0\n",
       "Name: Churn, dtype: int64"
      ]
     },
     "execution_count": 42,
     "metadata": {},
     "output_type": "execute_result"
    }
   ],
   "source": [
    "# manual label encoding if y_train features\n",
    "y_train = y_train.map({'Yes':1,'No':0})\n",
    "y_train.head(3)"
   ]
  },
  {
   "cell_type": "code",
   "execution_count": 43,
   "id": "0bfe38eb",
   "metadata": {},
   "outputs": [],
   "source": [
    "y_test = y_test.map({'Yes':1,'No':0})"
   ]
  },
  {
   "cell_type": "code",
   "execution_count": 44,
   "id": "b49415e9",
   "metadata": {},
   "outputs": [],
   "source": [
    "# manual label encoding if x_train features\n",
    "for feature in ['Partner', 'Dependents', 'PaperlessBilling']:\n",
    "  x_train[feature] = x_train[feature].map({'Yes':1,'No':0})\n",
    "  x_test[feature] = x_test[feature].map({'Yes':1,'No':0})\n",
    "\n",
    "x_train['MultipleLines'] = x_train.MultipleLines.map({'Yes':1,'No':0,'No phone service':0})\n",
    "x_train['ContractType'] = x_train.ContractType.map({'One year':1,'Two year':1,'Month-to-month':0})\n",
    "\n",
    "x_test['MultipleLines'] = x_test.MultipleLines.map({'Yes':1,'No':0,'No phone service':0})\n",
    "x_test['ContractType'] = x_test.ContractType.map({'One year':1,'Two year':1,'Month-to-month':0})\n",
    "\n",
    "for feature in ['OnlineSecurity', 'OnlineBackup', 'DeviceProtection', 'TechSupport', 'StreamingTV', 'StreamingMovies']:\n",
    "  x_train[feature] = x_train[feature].map({'Yes':1,'No':0,'No internet service':0})\n",
    "  x_test[feature] = x_test[feature].map({'Yes':1,'No':0,'No internet service':0})"
   ]
  },
  {
   "cell_type": "code",
   "execution_count": 45,
   "id": "8789c071",
   "metadata": {},
   "outputs": [],
   "source": [
    "x_train = pd.get_dummies(x_train, columns= ['InternetService','PaymentMethod'], drop_first = True)\n",
    "x_test = pd.get_dummies(x_test, columns= ['InternetService','PaymentMethod'], drop_first = True)"
   ]
  },
  {
   "cell_type": "markdown",
   "id": "e99e3f40",
   "metadata": {},
   "source": [
    "# Scaling of Numerical Features"
   ]
  },
  {
   "cell_type": "code",
   "execution_count": 46,
   "id": "72298eab",
   "metadata": {},
   "outputs": [
    {
     "data": {
      "text/plain": [
       "dtype('float64')"
      ]
     },
     "execution_count": 46,
     "metadata": {},
     "output_type": "execute_result"
    }
   ],
   "source": [
    "# TotalCharges is an integer, not an object, so it has to be converted in x_train and x_test\n",
    "TotalCharges_missing_x_train = x_train[ pd.to_numeric(x_train['TotalCharges'], errors='coerce').isnull()]\n",
    "for idx in TotalCharges_missing_x_train.index:\n",
    "  x_train.loc[idx,'TotalCharges'] = x_train.loc[idx]['Tenure'] * x_train.loc[idx]['MonthlyCharges']\n",
    "x_train['TotalCharges'] = x_train['TotalCharges'].astype(str).astype(float)\n",
    "x_train['TotalCharges'].dtype"
   ]
  },
  {
   "cell_type": "code",
   "execution_count": 55,
   "id": "d111f77f",
   "metadata": {},
   "outputs": [
    {
     "data": {
      "text/plain": [
       "dtype('float64')"
      ]
     },
     "execution_count": 55,
     "metadata": {},
     "output_type": "execute_result"
    }
   ],
   "source": [
    "TotalCharges_missing_x_test = x_test[ pd.to_numeric(x_test['TotalCharges'], errors='coerce').isnull()]\n",
    "for idx in TotalCharges_missing_x_test.index:\n",
    "  x_test.loc[idx,'TotalCharges'] = x_test.loc[idx]['Tenure'] * x_test.loc[idx]['MonthlyCharges']\n",
    "x_test['TotalCharges'] = x_test['TotalCharges'].astype(str).astype(float)\n",
    "x_test['TotalCharges'].dtype"
   ]
  },
  {
   "cell_type": "code",
   "execution_count": 56,
   "id": "221746ba",
   "metadata": {},
   "outputs": [
    {
     "data": {
      "text/html": [
       "<div>\n",
       "<style scoped>\n",
       "    .dataframe tbody tr th:only-of-type {\n",
       "        vertical-align: middle;\n",
       "    }\n",
       "\n",
       "    .dataframe tbody tr th {\n",
       "        vertical-align: top;\n",
       "    }\n",
       "\n",
       "    .dataframe thead th {\n",
       "        text-align: right;\n",
       "    }\n",
       "</style>\n",
       "<table border=\"1\" class=\"dataframe\">\n",
       "  <thead>\n",
       "    <tr style=\"text-align: right;\">\n",
       "      <th></th>\n",
       "      <th>SeniorCitizen</th>\n",
       "      <th>Partner</th>\n",
       "      <th>Dependents</th>\n",
       "      <th>Tenure</th>\n",
       "      <th>MultipleLines</th>\n",
       "      <th>OnlineSecurity</th>\n",
       "      <th>OnlineBackup</th>\n",
       "      <th>DeviceProtection</th>\n",
       "      <th>TechSupport</th>\n",
       "      <th>StreamingTV</th>\n",
       "      <th>StreamingMovies</th>\n",
       "      <th>ContractType</th>\n",
       "      <th>PaperlessBilling</th>\n",
       "      <th>MonthlyCharges</th>\n",
       "      <th>TotalCharges</th>\n",
       "      <th>InternetService_Fiber optic</th>\n",
       "      <th>InternetService_No</th>\n",
       "      <th>PaymentMethod_Credit card (automatic)</th>\n",
       "      <th>PaymentMethod_Electronic check</th>\n",
       "      <th>PaymentMethod_Mailed check</th>\n",
       "    </tr>\n",
       "  </thead>\n",
       "  <tbody>\n",
       "    <tr>\n",
       "      <th>6661</th>\n",
       "      <td>0</td>\n",
       "      <td>1</td>\n",
       "      <td>1</td>\n",
       "      <td>1.000000</td>\n",
       "      <td>0</td>\n",
       "      <td>0</td>\n",
       "      <td>1</td>\n",
       "      <td>0</td>\n",
       "      <td>1</td>\n",
       "      <td>1</td>\n",
       "      <td>1</td>\n",
       "      <td>1</td>\n",
       "      <td>0</td>\n",
       "      <td>0.351271</td>\n",
       "      <td>0.435704</td>\n",
       "      <td>0</td>\n",
       "      <td>0</td>\n",
       "      <td>1</td>\n",
       "      <td>0</td>\n",
       "      <td>0</td>\n",
       "    </tr>\n",
       "    <tr>\n",
       "      <th>4811</th>\n",
       "      <td>0</td>\n",
       "      <td>0</td>\n",
       "      <td>0</td>\n",
       "      <td>0.055556</td>\n",
       "      <td>0</td>\n",
       "      <td>0</td>\n",
       "      <td>0</td>\n",
       "      <td>0</td>\n",
       "      <td>0</td>\n",
       "      <td>0</td>\n",
       "      <td>0</td>\n",
       "      <td>0</td>\n",
       "      <td>1</td>\n",
       "      <td>0.275037</td>\n",
       "      <td>0.022292</td>\n",
       "      <td>0</td>\n",
       "      <td>0</td>\n",
       "      <td>0</td>\n",
       "      <td>0</td>\n",
       "      <td>1</td>\n",
       "    </tr>\n",
       "    <tr>\n",
       "      <th>2193</th>\n",
       "      <td>0</td>\n",
       "      <td>0</td>\n",
       "      <td>1</td>\n",
       "      <td>0.777778</td>\n",
       "      <td>0</td>\n",
       "      <td>0</td>\n",
       "      <td>0</td>\n",
       "      <td>0</td>\n",
       "      <td>0</td>\n",
       "      <td>0</td>\n",
       "      <td>0</td>\n",
       "      <td>1</td>\n",
       "      <td>1</td>\n",
       "      <td>0.027902</td>\n",
       "      <td>0.142623</td>\n",
       "      <td>0</td>\n",
       "      <td>1</td>\n",
       "      <td>0</td>\n",
       "      <td>0</td>\n",
       "      <td>1</td>\n",
       "    </tr>\n",
       "  </tbody>\n",
       "</table>\n",
       "</div>"
      ],
      "text/plain": [
       "      SeniorCitizen  Partner  Dependents    Tenure  MultipleLines  \\\n",
       "6661              0        1           1  1.000000              0   \n",
       "4811              0        0           0  0.055556              0   \n",
       "2193              0        0           1  0.777778              0   \n",
       "\n",
       "      OnlineSecurity  OnlineBackup  DeviceProtection  TechSupport  \\\n",
       "6661               0             1                 0            1   \n",
       "4811               0             0                 0            0   \n",
       "2193               0             0                 0            0   \n",
       "\n",
       "      StreamingTV  StreamingMovies  ContractType  PaperlessBilling  \\\n",
       "6661            1                1             1                 0   \n",
       "4811            0                0             0                 1   \n",
       "2193            0                0             1                 1   \n",
       "\n",
       "      MonthlyCharges  TotalCharges  InternetService_Fiber optic  \\\n",
       "6661        0.351271      0.435704                            0   \n",
       "4811        0.275037      0.022292                            0   \n",
       "2193        0.027902      0.142623                            0   \n",
       "\n",
       "      InternetService_No  PaymentMethod_Credit card (automatic)  \\\n",
       "6661                   0                                      1   \n",
       "4811                   0                                      0   \n",
       "2193                   1                                      0   \n",
       "\n",
       "      PaymentMethod_Electronic check  PaymentMethod_Mailed check  \n",
       "6661                               0                           0  \n",
       "4811                               0                           1  \n",
       "2193                               0                           1  "
      ]
     },
     "execution_count": 56,
     "metadata": {},
     "output_type": "execute_result"
    }
   ],
   "source": [
    "scaler = MinMaxScaler()\n",
    "minmax_scaler = scaler.fit(x_train[['Tenure','MonthlyCharges','TotalCharges']])\n",
    "x_train[['Tenure','MonthlyCharges','TotalCharges']] = minmax_scaler.transform(x_train[['Tenure','MonthlyCharges','TotalCharges']])\n",
    "x_train.head(3)"
   ]
  },
  {
   "cell_type": "code",
   "execution_count": 57,
   "id": "af342e03",
   "metadata": {},
   "outputs": [],
   "source": [
    "x_test[['Tenure','MonthlyCharges','TotalCharges']] = minmax_scaler.transform(x_test[['Tenure','MonthlyCharges','TotalCharges']])\n"
   ]
  },
  {
   "cell_type": "markdown",
   "id": "a8cee1a8",
   "metadata": {},
   "source": [
    "# Model Selection\n",
    "The model that will be used are :\n",
    "   1) LinearSVC\n",
    "   2) Gaussian RBF SVC\n",
    "   3) Polynomial SVC\n",
    "   4) Sigmoid SVC"
   ]
  },
  {
   "cell_type": "code",
   "execution_count": null,
   "id": "373ea3e5",
   "metadata": {},
   "outputs": [],
   "source": [
    "def plot_confusion_matrix(y_test, pred):\n",
    "  cm = confusion_matrix(y_test, pred)\n",
    "  \n",
    "  df_cm = pd.DataFrame(cm, [0,1], [0,1])\n",
    "  plt.figure(figsize=(5,3))\n",
    "  sns.set(font_scale=1.4) # for label size\n",
    "  sns.heatmap(df_cm, annot=True, fmt='g', cbar=False, cmap=\"YlGnBu\") # font size , annot_kws={\"size\": 16}\n",
    "  plt.title('Confusion Matrix\\n', y=1.1)\n",
    "  plt.ylabel('Actual label\\n')\n",
    "  plt.xlabel('Predicted label\\n')\n",
    "\n",
    "  plt.show()\n"
   ]
  },
  {
   "cell_type": "code",
   "execution_count": 49,
   "id": "ddf828ee",
   "metadata": {},
   "outputs": [
    {
     "data": {
      "image/png": "[encoded data removed]",
      "text/plain": [
       "<Figure size 360x216 with 1 Axes>"
      ]
     },
     "metadata": {
      "needs_background": "light"
     },
     "output_type": "display_data"
    }
   ],
   "source": [
    "# the above function will return confusion matrix with values in the following format \n",
    "df_cm = pd.DataFrame([[1000,200],[150,250]],[0,1], [0,1])\n",
    "annot_arr = np.array([['True Negative','False Postive'],['False Negative','True Postive']], dtype = str)\n",
    "plt.figure(figsize=(5,3))\n",
    "sns.set(font_scale=1.4) # for label size\n",
    "sns.heatmap(df_cm, annot=annot_arr, fmt='s', cbar=False, cmap=\"YlGnBu\") # font size , annot_kws={\"size\": 16}\n",
    "plt.title('Confusion Matrix\\n', y=1.1)\n",
    "plt.ylabel('Actual label\\n')\n",
    "plt.xlabel('Predicted label\\n')\n",
    "plt.show()"
   ]
  },
  {
   "cell_type": "markdown",
   "id": "9d2aee45",
   "metadata": {},
   "source": [
    "# Metrics for Model Evaluation:\n",
    "\n"
   ]
  },
  {
   "cell_type": "code",
   "execution_count": null,
   "id": "1f18dda3",
   "metadata": {},
   "outputs": [],
   "source": [
    "The dataset is imbalanced, so accuracy is not a suitable metric in this case. Our main objective is to find all the customers who churn. So True Positive is more important.\n",
    "\n",
    "In this case, the False Negative ( Actually Churn but Predicted an Not Churn) is more costly than False Postive. So we take F1-Score as a metric.\n",
    "\n",
    "F1-Score is a falpha_score with alpha value = 1, F1-measure has the effect of lowering the importance of precision and increase the importance of recall,then the F1-Measure puts more attention on minimizing false negatives than minimizing false positives.\n",
    "\n",
    "\n",
    "\n",
    "1)  Accuracy\n",
    "2)  Precision\n",
    "3)  Recall\n",
    "4)  F1-score"
   ]
  },
  {
   "cell_type": "code",
   "execution_count": 50,
   "id": "0b610831",
   "metadata": {},
   "outputs": [],
   "source": [
    "def model_metrics(table_name,model_name, y_test, pred, print_cm , print_cr):\n",
    "  if print_cm == True:\n",
    "    plot_confusion_matrix(y_test, pred)\n",
    "    print(\"\\n\")\n",
    "  if print_cr == True:\n",
    "    print(classification_report(y_test, pred),\"\\n\")\n",
    "\n",
    "  accuracy = round( accuracy_score(y_test, pred),4)\n",
    "  precision = round(precision_score(y_test, pred),4)\n",
    "  recall = round(recall_score(y_test, pred),4)\n",
    "  f1 = round(f1_score(y_test, pred),4)\n",
    "  \n",
    "\n",
    "  table_name.loc[table_name.shape[0]] = [model_name ,accuracy, precision, recall, f1]"
   ]
  },
  {
   "cell_type": "code",
   "execution_count": 51,
   "id": "cdb2e7b3",
   "metadata": {},
   "outputs": [],
   "source": [
    "model_performance_without_hypertuning = pd.DataFrame(columns = ['model_name' ,'accuracy', 'precision', 'recall', 'f1'])"
   ]
  },
  {
   "cell_type": "code",
   "execution_count": 52,
   "id": "41564035",
   "metadata": {},
   "outputs": [],
   "source": [
    "model_performance_after_hypertuning = pd.DataFrame(columns = ['model_name' ,'accuracy', 'precision', 'recall', 'f1'])"
   ]
  },
  {
   "cell_type": "code",
   "execution_count": 54,
   "id": "1f42dada",
   "metadata": {},
   "outputs": [],
   "source": [
    "\n",
    "\n",
    "\n",
    "#main program\n",
    "models_without_hp = []\n",
    "\n",
    "#linear separation kernal (Linear kernal)\n",
    "\n",
    "models_without_hp.append(('Linear SVC', SVC(kernel = 'linear', random_state = 42)))\n",
    "\n",
    "#non-linear separation kernals(Gaussian RBF, Sigmoid, Polynomial)\n",
    "\n",
    "models_without_hp.append(('Gaussian-rbf SVC', SVC(kernel = 'rbf', random_state = 42)))\n",
    "\n",
    "\n",
    "models_without_hp.append(('polynomial SVC', SVC(kernel = 'poly', random_state = 42)))\n",
    "                          \n",
    "\n",
    "\n",
    "models_without_hp.append(('Sigmoid SVC', SVC(kernel = 'sigmoid', random_state = 42)))\n",
    "\n",
    "\n",
    "\n",
    "\n",
    "\n"
   ]
  },
  {
   "cell_type": "code",
   "execution_count": 57,
   "id": "e93383d4",
   "metadata": {},
   "outputs": [
    {
     "name": "stdout",
     "output_type": "stream",
     "text": [
      "Execution time: 5.870959997177124 seconds\n"
     ]
    }
   ],
   "source": [
    "\n",
    "import time\n",
    "\n",
    "# get the start time\n",
    "st = time.time()\n",
    "#main program\n",
    "for name, model in models_without_hp:\n",
    "  \n",
    "  md = model.fit(x_train, y_train)\n",
    "  pred = md.predict(x_test)\n",
    "\n",
    "  model_metrics(model_performance_without_hypertuning, name, y_test, pred, False, False)\n",
    "\n",
    "model_performance_without_hypertuning\n",
    "# get the end time\n",
    "et = time.time()\n",
    "\n",
    "# get the execution time\n",
    "elapsed_time = et - st\n",
    "print('Execution time:', elapsed_time, 'seconds')"
   ]
  },
  {
   "cell_type": "code",
   "execution_count": null,
   "id": "83b8f95e",
   "metadata": {},
   "outputs": [],
   "source": [
    "Model selection for Hyper-Parameter tuning\n",
    "\n",
    "1) linear SVC\n",
    "2) Gaussian-rbf SVC"
   ]
  },
  {
   "cell_type": "markdown",
   "id": "a29cc56b",
   "metadata": {},
   "source": [
    "# Hyper Paramaeter Tuning of models:"
   ]
  },
  {
   "cell_type": "markdown",
   "id": "f59d2dd6",
   "metadata": {},
   "source": [
    " Linear SVC"
   ]
  },
  {
   "cell_type": "code",
   "execution_count": 58,
   "id": "9a7690fb",
   "metadata": {},
   "outputs": [
    {
     "name": "stdout",
     "output_type": "stream",
     "text": [
      "Execution time: 46.60475826263428 seconds\n"
     ]
    }
   ],
   "source": [
    "import time\n",
    "\n",
    "# get the start time\n",
    "st = time.time()\n",
    "#main program\n",
    "linear_SVC = SVC(kernel = 'linear', random_state = 42)\n",
    "\n",
    "param_dist = {\n",
    "    'C' : [0.001, 0.01, 0.1, 1.0, 10.0, 100.0]\n",
    "}\n",
    "\n",
    "linear_SVC_hp =  RandomizedSearchCV(linear_SVC, param_distributions = param_dist  , cv = 5, random_state= 42)\n",
    "result2 = linear_SVC_hp.fit(x_train, y_train)\n",
    "# get the end time\n",
    "et = time.time()\n",
    "\n",
    "# get the execution time\n",
    "elapsed_time = et - st\n",
    "print('Execution time:', elapsed_time, 'seconds')"
   ]
  },
  {
   "cell_type": "code",
   "execution_count": 59,
   "id": "57cc34df",
   "metadata": {},
   "outputs": [
    {
     "name": "stdout",
     "output_type": "stream",
     "text": [
      "SVC(kernel='linear', random_state=42)\n"
     ]
    }
   ],
   "source": [
    "print(result2.best_estimator_)\n",
    "\n",
    "pred_2 = result2.predict(x_test)"
   ]
  },
  {
   "cell_type": "code",
   "execution_count": 60,
   "id": "329a8e44",
   "metadata": {},
   "outputs": [
    {
     "data": {
      "image/png": "[encoded data removed]",
      "text/plain": [
       "<Figure size 360x216 with 1 Axes>"
      ]
     },
     "metadata": {},
     "output_type": "display_data"
    },
    {
     "name": "stdout",
     "output_type": "stream",
     "text": [
      "\n",
      "\n",
      "              precision    recall  f1-score   support\n",
      "\n",
      "           0       0.84      0.89      0.86      1294\n",
      "           1       0.63      0.53      0.58       467\n",
      "\n",
      "    accuracy                           0.79      1761\n",
      "   macro avg       0.73      0.71      0.72      1761\n",
      "weighted avg       0.78      0.79      0.79      1761\n",
      " \n",
      "\n",
      "   model_name  accuracy  precision  recall      f1\n",
      "0  Linear SVC    0.7922     0.6278   0.531  0.5754\n"
     ]
    }
   ],
   "source": [
    "model_metrics(model_performance_after_hypertuning, 'Linear SVC', y_test, pred_2, True, True)\n",
    "\n",
    "print(model_performance_after_hypertuning.tail(1))\n"
   ]
  },
  {
   "cell_type": "markdown",
   "id": "9242ffab",
   "metadata": {},
   "source": [
    "# Gaussian-rbf SVC"
   ]
  },
  {
   "cell_type": "code",
   "execution_count": 62,
   "id": "81478bbd",
   "metadata": {},
   "outputs": [
    {
     "name": "stdout",
     "output_type": "stream",
     "text": [
      "Execution time: 120.5142674446106 seconds\n"
     ]
    }
   ],
   "source": [
    "\n",
    "import time\n",
    "\n",
    "# get the start time\n",
    "st = time.time()\n",
    "\n",
    "# main program\n",
    "Gaussian_rbf_SVC = SVC(kernel = 'rbf', random_state = 42)\n",
    "\n",
    "param_dist = {\n",
    "    'C' : [0.001, 0.01, 0.1, 1.0, 10.0, 100.0],\n",
    "    'gamma' : [ 0.0001 , 0.001, 0.01, 0.1, 1.0, 10]\n",
    "}\n",
    "\n",
    "Gaussian_rbf_SVC_hp =  RandomizedSearchCV(Gaussian_rbf_SVC, param_distributions = param_dist  , cv = 5, random_state= 42)\n",
    "result3 = Gaussian_rbf_SVC_hp.fit(x_train, y_train)\n",
    "\n",
    "\n",
    "\n",
    "# get the end time\n",
    "et = time.time()\n",
    "\n",
    "# get the execution time\n",
    "elapsed_time = et - st\n",
    "print('Execution time:', elapsed_time, 'seconds')"
   ]
  },
  {
   "cell_type": "code",
   "execution_count": 63,
   "id": "8ba90341",
   "metadata": {},
   "outputs": [
    {
     "name": "stdout",
     "output_type": "stream",
     "text": [
      "SVC(C=10.0, gamma=0.01, random_state=42)\n"
     ]
    }
   ],
   "source": [
    "print(result3.best_estimator_)\n",
    "\n",
    "pred_3 = result3.predict(x_test)"
   ]
  },
  {
   "cell_type": "code",
   "execution_count": 64,
   "id": "4576bcbd",
   "metadata": {},
   "outputs": [
    {
     "data": {
      "image/png": "[encoded data removed]",
      "text/plain": [
       "<Figure size 360x216 with 1 Axes>"
      ]
     },
     "metadata": {},
     "output_type": "display_data"
    },
    {
     "name": "stdout",
     "output_type": "stream",
     "text": [
      "\n",
      "\n",
      "              precision    recall  f1-score   support\n",
      "\n",
      "           0       0.83      0.90      0.87      1294\n",
      "           1       0.65      0.49      0.56       467\n",
      "\n",
      "    accuracy                           0.79      1761\n",
      "   macro avg       0.74      0.70      0.71      1761\n",
      "weighted avg       0.78      0.79      0.78      1761\n",
      " \n",
      "\n",
      "         model_name  accuracy  precision  recall      f1\n",
      "1  Gaussian-rbf SVC    0.7944     0.6496  0.4882  0.5575\n"
     ]
    }
   ],
   "source": [
    "model_metrics(model_performance_after_hypertuning, 'Gaussian-rbf SVC', y_test, pred_3, True, True)\n",
    "\n",
    "print(model_performance_after_hypertuning.tail(1))"
   ]
  },
  {
   "cell_type": "markdown",
   "id": "f16a781c",
   "metadata": {},
   "source": [
    "# Model Evaluation"
   ]
  },
  {
   "cell_type": "code",
   "execution_count": 65,
   "id": "999e51b6",
   "metadata": {},
   "outputs": [
    {
     "data": {
      "text/html": [
       "<div>\n",
       "<style scoped>\n",
       "    .dataframe tbody tr th:only-of-type {\n",
       "        vertical-align: middle;\n",
       "    }\n",
       "\n",
       "    .dataframe tbody tr th {\n",
       "        vertical-align: top;\n",
       "    }\n",
       "\n",
       "    .dataframe thead th {\n",
       "        text-align: right;\n",
       "    }\n",
       "</style>\n",
       "<table border=\"1\" class=\"dataframe\">\n",
       "  <thead>\n",
       "    <tr style=\"text-align: right;\">\n",
       "      <th></th>\n",
       "      <th>model_name</th>\n",
       "      <th>accuracy</th>\n",
       "      <th>precision</th>\n",
       "      <th>recall</th>\n",
       "      <th>f1</th>\n",
       "    </tr>\n",
       "  </thead>\n",
       "  <tbody>\n",
       "    <tr>\n",
       "      <th>0</th>\n",
       "      <td>Linear SVC</td>\n",
       "      <td>0.7922</td>\n",
       "      <td>0.6278</td>\n",
       "      <td>0.5310</td>\n",
       "      <td>0.5754</td>\n",
       "    </tr>\n",
       "    <tr>\n",
       "      <th>1</th>\n",
       "      <td>Gaussian-rbf SVC</td>\n",
       "      <td>0.7939</td>\n",
       "      <td>0.6421</td>\n",
       "      <td>0.5032</td>\n",
       "      <td>0.5642</td>\n",
       "    </tr>\n",
       "    <tr>\n",
       "      <th>2</th>\n",
       "      <td>polynomial SVC</td>\n",
       "      <td>0.7774</td>\n",
       "      <td>0.6100</td>\n",
       "      <td>0.4454</td>\n",
       "      <td>0.5149</td>\n",
       "    </tr>\n",
       "    <tr>\n",
       "      <th>3</th>\n",
       "      <td>Sigmoid SVC</td>\n",
       "      <td>0.7087</td>\n",
       "      <td>0.4533</td>\n",
       "      <td>0.4775</td>\n",
       "      <td>0.4651</td>\n",
       "    </tr>\n",
       "  </tbody>\n",
       "</table>\n",
       "</div>"
      ],
      "text/plain": [
       "         model_name  accuracy  precision  recall      f1\n",
       "0        Linear SVC    0.7922     0.6278  0.5310  0.5754\n",
       "1  Gaussian-rbf SVC    0.7939     0.6421  0.5032  0.5642\n",
       "2    polynomial SVC    0.7774     0.6100  0.4454  0.5149\n",
       "3       Sigmoid SVC    0.7087     0.4533  0.4775  0.4651"
      ]
     },
     "execution_count": 65,
     "metadata": {},
     "output_type": "execute_result"
    }
   ],
   "source": [
    "model_performance_without_hypertuning"
   ]
  },
  {
   "cell_type": "code",
   "execution_count": 66,
   "id": "48fd857f",
   "metadata": {},
   "outputs": [
    {
     "data": {
      "text/html": [
       "<div>\n",
       "<style scoped>\n",
       "    .dataframe tbody tr th:only-of-type {\n",
       "        vertical-align: middle;\n",
       "    }\n",
       "\n",
       "    .dataframe tbody tr th {\n",
       "        vertical-align: top;\n",
       "    }\n",
       "\n",
       "    .dataframe thead th {\n",
       "        text-align: right;\n",
       "    }\n",
       "</style>\n",
       "<table border=\"1\" class=\"dataframe\">\n",
       "  <thead>\n",
       "    <tr style=\"text-align: right;\">\n",
       "      <th></th>\n",
       "      <th>model_name</th>\n",
       "      <th>accuracy</th>\n",
       "      <th>precision</th>\n",
       "      <th>recall</th>\n",
       "      <th>f1</th>\n",
       "    </tr>\n",
       "  </thead>\n",
       "  <tbody>\n",
       "    <tr>\n",
       "      <th>0</th>\n",
       "      <td>Linear SVC</td>\n",
       "      <td>0.7922</td>\n",
       "      <td>0.6278</td>\n",
       "      <td>0.5310</td>\n",
       "      <td>0.5754</td>\n",
       "    </tr>\n",
       "    <tr>\n",
       "      <th>1</th>\n",
       "      <td>Gaussian-rbf SVC</td>\n",
       "      <td>0.7944</td>\n",
       "      <td>0.6496</td>\n",
       "      <td>0.4882</td>\n",
       "      <td>0.5575</td>\n",
       "    </tr>\n",
       "  </tbody>\n",
       "</table>\n",
       "</div>"
      ],
      "text/plain": [
       "         model_name  accuracy  precision  recall      f1\n",
       "0        Linear SVC    0.7922     0.6278  0.5310  0.5754\n",
       "1  Gaussian-rbf SVC    0.7944     0.6496  0.4882  0.5575"
      ]
     },
     "execution_count": 66,
     "metadata": {},
     "output_type": "execute_result"
    }
   ],
   "source": [
    "model_performance_after_hypertuning"
   ]
  },
  {
   "cell_type": "markdown",
   "id": "d00316f8",
   "metadata": {},
   "source": [
    "-------------------------------------------------------------------------------------------------------------------------------"
   ]
  },
  {
   "cell_type": "markdown",
   "id": "d8664431",
   "metadata": {},
   "source": [
    "# MODEL BUILDING USING NEURAL NETWORKS"
   ]
  },
  {
   "cell_type": "code",
   "execution_count": 67,
   "id": "96f984ae",
   "metadata": {},
   "outputs": [],
   "source": [
    "from sklearn.preprocessing import LabelEncoder,OneHotEncoder\n",
    "from keras.wrappers.scikit_learn import KerasClassifier\n",
    "from sklearn.model_selection import train_test_split\n",
    "from sklearn.model_selection import GridSearchCV\n",
    "from sklearn.preprocessing import StandardScaler\n",
    "from sklearn.metrics import confusion_matrix,classification_report\n",
    "from sklearn.metrics import accuracy_score,recall_score,precision_score,f1_score\n",
    "from keras.layers import BatchNormalization\n",
    "from keras.models import Sequential\n",
    "from keras.layers import Dropout\n",
    "from keras.layers import Dense\n",
    "import matplotlib.pyplot as plt\n",
    "import seaborn as sns\n",
    "import pandas as pd\n",
    "import numpy as np\n",
    "import collections\n",
    "import warnings\n",
    "warnings.filterwarnings(\"ignore\")\n"
   ]
  },
  {
   "cell_type": "code",
   "execution_count": 34,
   "id": "d2c1c8d1",
   "metadata": {},
   "outputs": [
    {
     "name": "stdout",
     "output_type": "stream",
     "text": [
      "Requirement already satisfied: numpy in d:\\pythonjb\\lib\\site-packages (1.22.4)\n",
      "Note: you may need to restart the kernel to use updated packages.\n"
     ]
    },
    {
     "name": "stderr",
     "output_type": "stream",
     "text": [
      "WARNING: Ignoring invalid distribution -ip (d:\\pythonjb\\lib\\site-packages)\n",
      "WARNING: Ignoring invalid distribution -ip (d:\\pythonjb\\lib\\site-packages)\n",
      "WARNING: Ignoring invalid distribution -ip (d:\\pythonjb\\lib\\site-packages)\n",
      "WARNING: Ignoring invalid distribution -ip (d:\\pythonjb\\lib\\site-packages)\n",
      "WARNING: Ignoring invalid distribution -ip (d:\\pythonjb\\lib\\site-packages)\n",
      "WARNING: Ignoring invalid distribution -ip (d:\\pythonjb\\lib\\site-packages)\n"
     ]
    }
   ],
   "source": [
    "pip install numpy --upgrade\n"
   ]
  },
  {
   "cell_type": "code",
   "execution_count": 35,
   "id": "fe37d330",
   "metadata": {},
   "outputs": [
    {
     "data": {
      "text/plain": [
       "customerID           object\n",
       "gender               object\n",
       "SeniorCitizen         int64\n",
       "Partner               int32\n",
       "Dependents            int32\n",
       "tenure                int64\n",
       "PhoneService         object\n",
       "MultipleLines         int32\n",
       "InternetService       int32\n",
       "OnlineSecurity        int32\n",
       "OnlineBackup          int32\n",
       "DeviceProtection      int32\n",
       "TechSupport           int32\n",
       "StreamingTV           int32\n",
       "StreamingMovies       int32\n",
       "Contract              int32\n",
       "PaperlessBilling      int32\n",
       "PaymentMethod         int32\n",
       "MonthlyCharges      float64\n",
       "TotalCharges        float64\n",
       "Churn                object\n",
       "dtype: object"
      ]
     },
     "execution_count": 35,
     "metadata": {},
     "output_type": "execute_result"
    }
   ],
   "source": [
    "df.dtypes"
   ]
  },
  {
   "cell_type": "code",
   "execution_count": 36,
   "id": "962b8ffc",
   "metadata": {},
   "outputs": [],
   "source": [
    "df[\"TotalCharges\"] = pd.to_numeric(df[\"TotalCharges\"],errors=\"coerce\")"
   ]
  },
  {
   "cell_type": "code",
   "execution_count": 37,
   "id": "4097a5db",
   "metadata": {},
   "outputs": [
    {
     "data": {
      "text/plain": [
       "customerID          0\n",
       "gender              0\n",
       "SeniorCitizen       0\n",
       "Partner             0\n",
       "Dependents          0\n",
       "tenure              0\n",
       "PhoneService        0\n",
       "MultipleLines       0\n",
       "InternetService     0\n",
       "OnlineSecurity      0\n",
       "OnlineBackup        0\n",
       "DeviceProtection    0\n",
       "TechSupport         0\n",
       "StreamingTV         0\n",
       "StreamingMovies     0\n",
       "Contract            0\n",
       "PaperlessBilling    0\n",
       "PaymentMethod       0\n",
       "MonthlyCharges      0\n",
       "TotalCharges        0\n",
       "Churn               0\n",
       "dtype: int64"
      ]
     },
     "execution_count": 37,
     "metadata": {},
     "output_type": "execute_result"
    }
   ],
   "source": [
    "df.isnull().sum()"
   ]
  },
  {
   "cell_type": "code",
   "execution_count": 38,
   "id": "ede63018",
   "metadata": {},
   "outputs": [
    {
     "data": {
      "text/html": [
       "<div>\n",
       "<style scoped>\n",
       "    .dataframe tbody tr th:only-of-type {\n",
       "        vertical-align: middle;\n",
       "    }\n",
       "\n",
       "    .dataframe tbody tr th {\n",
       "        vertical-align: top;\n",
       "    }\n",
       "\n",
       "    .dataframe thead th {\n",
       "        text-align: right;\n",
       "    }\n",
       "</style>\n",
       "<table border=\"1\" class=\"dataframe\">\n",
       "  <thead>\n",
       "    <tr style=\"text-align: right;\">\n",
       "      <th></th>\n",
       "      <th>customerID</th>\n",
       "      <th>gender</th>\n",
       "      <th>PhoneService</th>\n",
       "      <th>Churn</th>\n",
       "    </tr>\n",
       "  </thead>\n",
       "  <tbody>\n",
       "    <tr>\n",
       "      <th>count</th>\n",
       "      <td>7032</td>\n",
       "      <td>7032</td>\n",
       "      <td>7032</td>\n",
       "      <td>7032</td>\n",
       "    </tr>\n",
       "    <tr>\n",
       "      <th>unique</th>\n",
       "      <td>7032</td>\n",
       "      <td>2</td>\n",
       "      <td>2</td>\n",
       "      <td>2</td>\n",
       "    </tr>\n",
       "    <tr>\n",
       "      <th>top</th>\n",
       "      <td>7590-VHVEG</td>\n",
       "      <td>Male</td>\n",
       "      <td>Yes</td>\n",
       "      <td>No</td>\n",
       "    </tr>\n",
       "    <tr>\n",
       "      <th>freq</th>\n",
       "      <td>1</td>\n",
       "      <td>3549</td>\n",
       "      <td>6352</td>\n",
       "      <td>5163</td>\n",
       "    </tr>\n",
       "  </tbody>\n",
       "</table>\n",
       "</div>"
      ],
      "text/plain": [
       "        customerID gender PhoneService Churn\n",
       "count         7032   7032         7032  7032\n",
       "unique        7032      2            2     2\n",
       "top     7590-VHVEG   Male          Yes    No\n",
       "freq             1   3549         6352  5163"
      ]
     },
     "execution_count": 38,
     "metadata": {},
     "output_type": "execute_result"
    }
   ],
   "source": [
    "summary = df.describe(include=[\"O\"])\n",
    "summary"
   ]
  },
  {
   "cell_type": "code",
   "execution_count": 39,
   "id": "0473dde8",
   "metadata": {},
   "outputs": [
    {
     "data": {
      "text/html": [
       "<div>\n",
       "<style scoped>\n",
       "    .dataframe tbody tr th:only-of-type {\n",
       "        vertical-align: middle;\n",
       "    }\n",
       "\n",
       "    .dataframe tbody tr th {\n",
       "        vertical-align: top;\n",
       "    }\n",
       "\n",
       "    .dataframe thead th {\n",
       "        text-align: right;\n",
       "    }\n",
       "</style>\n",
       "<table border=\"1\" class=\"dataframe\">\n",
       "  <thead>\n",
       "    <tr style=\"text-align: right;\">\n",
       "      <th></th>\n",
       "      <th>customerID</th>\n",
       "      <th>gender</th>\n",
       "      <th>SeniorCitizen</th>\n",
       "      <th>Partner</th>\n",
       "      <th>Dependents</th>\n",
       "      <th>tenure</th>\n",
       "      <th>PhoneService</th>\n",
       "      <th>MultipleLines</th>\n",
       "      <th>InternetService</th>\n",
       "      <th>OnlineSecurity</th>\n",
       "      <th>...</th>\n",
       "      <th>DeviceProtection</th>\n",
       "      <th>TechSupport</th>\n",
       "      <th>StreamingTV</th>\n",
       "      <th>StreamingMovies</th>\n",
       "      <th>Contract</th>\n",
       "      <th>PaperlessBilling</th>\n",
       "      <th>PaymentMethod</th>\n",
       "      <th>MonthlyCharges</th>\n",
       "      <th>TotalCharges</th>\n",
       "      <th>Churn</th>\n",
       "    </tr>\n",
       "  </thead>\n",
       "  <tbody>\n",
       "    <tr>\n",
       "      <th>0</th>\n",
       "      <td>7590-VHVEG</td>\n",
       "      <td>Female</td>\n",
       "      <td>0</td>\n",
       "      <td>1</td>\n",
       "      <td>0</td>\n",
       "      <td>1</td>\n",
       "      <td>No</td>\n",
       "      <td>1</td>\n",
       "      <td>0</td>\n",
       "      <td>0</td>\n",
       "      <td>...</td>\n",
       "      <td>0</td>\n",
       "      <td>0</td>\n",
       "      <td>0</td>\n",
       "      <td>0</td>\n",
       "      <td>0</td>\n",
       "      <td>1</td>\n",
       "      <td>2</td>\n",
       "      <td>29.85</td>\n",
       "      <td>29.85</td>\n",
       "      <td>No</td>\n",
       "    </tr>\n",
       "    <tr>\n",
       "      <th>1</th>\n",
       "      <td>5575-GNVDE</td>\n",
       "      <td>Male</td>\n",
       "      <td>0</td>\n",
       "      <td>0</td>\n",
       "      <td>0</td>\n",
       "      <td>34</td>\n",
       "      <td>Yes</td>\n",
       "      <td>0</td>\n",
       "      <td>0</td>\n",
       "      <td>2</td>\n",
       "      <td>...</td>\n",
       "      <td>2</td>\n",
       "      <td>0</td>\n",
       "      <td>0</td>\n",
       "      <td>0</td>\n",
       "      <td>1</td>\n",
       "      <td>0</td>\n",
       "      <td>3</td>\n",
       "      <td>56.95</td>\n",
       "      <td>1889.50</td>\n",
       "      <td>No</td>\n",
       "    </tr>\n",
       "    <tr>\n",
       "      <th>2</th>\n",
       "      <td>3668-QPYBK</td>\n",
       "      <td>Male</td>\n",
       "      <td>0</td>\n",
       "      <td>0</td>\n",
       "      <td>0</td>\n",
       "      <td>2</td>\n",
       "      <td>Yes</td>\n",
       "      <td>0</td>\n",
       "      <td>0</td>\n",
       "      <td>2</td>\n",
       "      <td>...</td>\n",
       "      <td>0</td>\n",
       "      <td>0</td>\n",
       "      <td>0</td>\n",
       "      <td>0</td>\n",
       "      <td>0</td>\n",
       "      <td>1</td>\n",
       "      <td>3</td>\n",
       "      <td>53.85</td>\n",
       "      <td>108.15</td>\n",
       "      <td>Yes</td>\n",
       "    </tr>\n",
       "    <tr>\n",
       "      <th>3</th>\n",
       "      <td>7795-CFOCW</td>\n",
       "      <td>Male</td>\n",
       "      <td>0</td>\n",
       "      <td>0</td>\n",
       "      <td>0</td>\n",
       "      <td>45</td>\n",
       "      <td>No</td>\n",
       "      <td>1</td>\n",
       "      <td>0</td>\n",
       "      <td>2</td>\n",
       "      <td>...</td>\n",
       "      <td>2</td>\n",
       "      <td>2</td>\n",
       "      <td>0</td>\n",
       "      <td>0</td>\n",
       "      <td>1</td>\n",
       "      <td>0</td>\n",
       "      <td>0</td>\n",
       "      <td>42.30</td>\n",
       "      <td>1840.75</td>\n",
       "      <td>No</td>\n",
       "    </tr>\n",
       "    <tr>\n",
       "      <th>4</th>\n",
       "      <td>9237-HQITU</td>\n",
       "      <td>Female</td>\n",
       "      <td>0</td>\n",
       "      <td>0</td>\n",
       "      <td>0</td>\n",
       "      <td>2</td>\n",
       "      <td>Yes</td>\n",
       "      <td>0</td>\n",
       "      <td>1</td>\n",
       "      <td>0</td>\n",
       "      <td>...</td>\n",
       "      <td>0</td>\n",
       "      <td>0</td>\n",
       "      <td>0</td>\n",
       "      <td>0</td>\n",
       "      <td>0</td>\n",
       "      <td>1</td>\n",
       "      <td>2</td>\n",
       "      <td>70.70</td>\n",
       "      <td>151.65</td>\n",
       "      <td>Yes</td>\n",
       "    </tr>\n",
       "    <tr>\n",
       "      <th>...</th>\n",
       "      <td>...</td>\n",
       "      <td>...</td>\n",
       "      <td>...</td>\n",
       "      <td>...</td>\n",
       "      <td>...</td>\n",
       "      <td>...</td>\n",
       "      <td>...</td>\n",
       "      <td>...</td>\n",
       "      <td>...</td>\n",
       "      <td>...</td>\n",
       "      <td>...</td>\n",
       "      <td>...</td>\n",
       "      <td>...</td>\n",
       "      <td>...</td>\n",
       "      <td>...</td>\n",
       "      <td>...</td>\n",
       "      <td>...</td>\n",
       "      <td>...</td>\n",
       "      <td>...</td>\n",
       "      <td>...</td>\n",
       "      <td>...</td>\n",
       "    </tr>\n",
       "    <tr>\n",
       "      <th>7038</th>\n",
       "      <td>6840-RESVB</td>\n",
       "      <td>Male</td>\n",
       "      <td>0</td>\n",
       "      <td>1</td>\n",
       "      <td>1</td>\n",
       "      <td>24</td>\n",
       "      <td>Yes</td>\n",
       "      <td>2</td>\n",
       "      <td>0</td>\n",
       "      <td>2</td>\n",
       "      <td>...</td>\n",
       "      <td>2</td>\n",
       "      <td>2</td>\n",
       "      <td>2</td>\n",
       "      <td>2</td>\n",
       "      <td>1</td>\n",
       "      <td>1</td>\n",
       "      <td>3</td>\n",
       "      <td>84.80</td>\n",
       "      <td>1990.50</td>\n",
       "      <td>No</td>\n",
       "    </tr>\n",
       "    <tr>\n",
       "      <th>7039</th>\n",
       "      <td>2234-XADUH</td>\n",
       "      <td>Female</td>\n",
       "      <td>0</td>\n",
       "      <td>1</td>\n",
       "      <td>1</td>\n",
       "      <td>72</td>\n",
       "      <td>Yes</td>\n",
       "      <td>2</td>\n",
       "      <td>1</td>\n",
       "      <td>0</td>\n",
       "      <td>...</td>\n",
       "      <td>2</td>\n",
       "      <td>0</td>\n",
       "      <td>2</td>\n",
       "      <td>2</td>\n",
       "      <td>1</td>\n",
       "      <td>1</td>\n",
       "      <td>1</td>\n",
       "      <td>103.20</td>\n",
       "      <td>7362.90</td>\n",
       "      <td>No</td>\n",
       "    </tr>\n",
       "    <tr>\n",
       "      <th>7040</th>\n",
       "      <td>4801-JZAZL</td>\n",
       "      <td>Female</td>\n",
       "      <td>0</td>\n",
       "      <td>1</td>\n",
       "      <td>1</td>\n",
       "      <td>11</td>\n",
       "      <td>No</td>\n",
       "      <td>1</td>\n",
       "      <td>0</td>\n",
       "      <td>2</td>\n",
       "      <td>...</td>\n",
       "      <td>0</td>\n",
       "      <td>0</td>\n",
       "      <td>0</td>\n",
       "      <td>0</td>\n",
       "      <td>0</td>\n",
       "      <td>1</td>\n",
       "      <td>2</td>\n",
       "      <td>29.60</td>\n",
       "      <td>346.45</td>\n",
       "      <td>No</td>\n",
       "    </tr>\n",
       "    <tr>\n",
       "      <th>7041</th>\n",
       "      <td>8361-LTMKD</td>\n",
       "      <td>Male</td>\n",
       "      <td>1</td>\n",
       "      <td>1</td>\n",
       "      <td>0</td>\n",
       "      <td>4</td>\n",
       "      <td>Yes</td>\n",
       "      <td>2</td>\n",
       "      <td>1</td>\n",
       "      <td>0</td>\n",
       "      <td>...</td>\n",
       "      <td>0</td>\n",
       "      <td>0</td>\n",
       "      <td>0</td>\n",
       "      <td>0</td>\n",
       "      <td>0</td>\n",
       "      <td>1</td>\n",
       "      <td>3</td>\n",
       "      <td>74.40</td>\n",
       "      <td>306.60</td>\n",
       "      <td>Yes</td>\n",
       "    </tr>\n",
       "    <tr>\n",
       "      <th>7042</th>\n",
       "      <td>3186-AJIEK</td>\n",
       "      <td>Male</td>\n",
       "      <td>0</td>\n",
       "      <td>0</td>\n",
       "      <td>0</td>\n",
       "      <td>66</td>\n",
       "      <td>Yes</td>\n",
       "      <td>0</td>\n",
       "      <td>1</td>\n",
       "      <td>2</td>\n",
       "      <td>...</td>\n",
       "      <td>2</td>\n",
       "      <td>2</td>\n",
       "      <td>2</td>\n",
       "      <td>2</td>\n",
       "      <td>2</td>\n",
       "      <td>1</td>\n",
       "      <td>0</td>\n",
       "      <td>105.65</td>\n",
       "      <td>6844.50</td>\n",
       "      <td>No</td>\n",
       "    </tr>\n",
       "  </tbody>\n",
       "</table>\n",
       "<p>7032 rows × 21 columns</p>\n",
       "</div>"
      ],
      "text/plain": [
       "      customerID  gender  SeniorCitizen  Partner  Dependents  tenure  \\\n",
       "0     7590-VHVEG  Female              0        1           0       1   \n",
       "1     5575-GNVDE    Male              0        0           0      34   \n",
       "2     3668-QPYBK    Male              0        0           0       2   \n",
       "3     7795-CFOCW    Male              0        0           0      45   \n",
       "4     9237-HQITU  Female              0        0           0       2   \n",
       "...          ...     ...            ...      ...         ...     ...   \n",
       "7038  6840-RESVB    Male              0        1           1      24   \n",
       "7039  2234-XADUH  Female              0        1           1      72   \n",
       "7040  4801-JZAZL  Female              0        1           1      11   \n",
       "7041  8361-LTMKD    Male              1        1           0       4   \n",
       "7042  3186-AJIEK    Male              0        0           0      66   \n",
       "\n",
       "     PhoneService  MultipleLines  InternetService  OnlineSecurity  ...  \\\n",
       "0              No              1                0               0  ...   \n",
       "1             Yes              0                0               2  ...   \n",
       "2             Yes              0                0               2  ...   \n",
       "3              No              1                0               2  ...   \n",
       "4             Yes              0                1               0  ...   \n",
       "...           ...            ...              ...             ...  ...   \n",
       "7038          Yes              2                0               2  ...   \n",
       "7039          Yes              2                1               0  ...   \n",
       "7040           No              1                0               2  ...   \n",
       "7041          Yes              2                1               0  ...   \n",
       "7042          Yes              0                1               2  ...   \n",
       "\n",
       "      DeviceProtection  TechSupport  StreamingTV  StreamingMovies  Contract  \\\n",
       "0                    0            0            0                0         0   \n",
       "1                    2            0            0                0         1   \n",
       "2                    0            0            0                0         0   \n",
       "3                    2            2            0                0         1   \n",
       "4                    0            0            0                0         0   \n",
       "...                ...          ...          ...              ...       ...   \n",
       "7038                 2            2            2                2         1   \n",
       "7039                 2            0            2                2         1   \n",
       "7040                 0            0            0                0         0   \n",
       "7041                 0            0            0                0         0   \n",
       "7042                 2            2            2                2         2   \n",
       "\n",
       "      PaperlessBilling  PaymentMethod  MonthlyCharges  TotalCharges  Churn  \n",
       "0                    1              2           29.85         29.85     No  \n",
       "1                    0              3           56.95       1889.50     No  \n",
       "2                    1              3           53.85        108.15    Yes  \n",
       "3                    0              0           42.30       1840.75     No  \n",
       "4                    1              2           70.70        151.65    Yes  \n",
       "...                ...            ...             ...           ...    ...  \n",
       "7038                 1              3           84.80       1990.50     No  \n",
       "7039                 1              1          103.20       7362.90     No  \n",
       "7040                 1              2           29.60        346.45     No  \n",
       "7041                 1              3           74.40        306.60    Yes  \n",
       "7042                 1              0          105.65       6844.50     No  \n",
       "\n",
       "[7032 rows x 21 columns]"
      ]
     },
     "execution_count": 39,
     "metadata": {},
     "output_type": "execute_result"
    }
   ],
   "source": [
    "df.dropna(how=\"any\",inplace=True)\n",
    "df"
   ]
  },
  {
   "cell_type": "code",
   "execution_count": 40,
   "id": "532c2c02",
   "metadata": {},
   "outputs": [
    {
     "data": {
      "text/plain": [
       "customerID          0\n",
       "gender              0\n",
       "SeniorCitizen       0\n",
       "Partner             0\n",
       "Dependents          0\n",
       "tenure              0\n",
       "PhoneService        0\n",
       "MultipleLines       0\n",
       "InternetService     0\n",
       "OnlineSecurity      0\n",
       "OnlineBackup        0\n",
       "DeviceProtection    0\n",
       "TechSupport         0\n",
       "StreamingTV         0\n",
       "StreamingMovies     0\n",
       "Contract            0\n",
       "PaperlessBilling    0\n",
       "PaymentMethod       0\n",
       "MonthlyCharges      0\n",
       "TotalCharges        0\n",
       "Churn               0\n",
       "dtype: int64"
      ]
     },
     "execution_count": 40,
     "metadata": {},
     "output_type": "execute_result"
    }
   ],
   "source": [
    "df.isnull().sum()"
   ]
  },
  {
   "cell_type": "code",
   "execution_count": 41,
   "id": "07b68234",
   "metadata": {},
   "outputs": [],
   "source": [
    "data_cont = ['tenure','MonthlyCharges', 'TotalCharges']\n",
    "data_cat = [ 'SeniorCitizen', 'Partner', 'Dependents',\n",
    "             'MultipleLines', 'InternetService',\n",
    "            'OnlineSecurity', 'OnlineBackup', 'DeviceProtection',\n",
    "            'TechSupport','StreamingTV','StreamingMovies',\n",
    "            'Contract', 'PaperlessBilling','PaymentMethod']"
   ]
  },
  {
   "cell_type": "code",
   "execution_count": 42,
   "id": "2a3a8f70",
   "metadata": {},
   "outputs": [],
   "source": [
    "scaler = StandardScaler()\n",
    "data_continuous = scaler.fit_transform(df[data_cont])"
   ]
  },
  {
   "cell_type": "code",
   "execution_count": 43,
   "id": "0be3d621",
   "metadata": {},
   "outputs": [],
   "source": [
    "for cols in data_cat:\n",
    "    df.loc[:,cols] = LabelEncoder().fit_transform(df.loc[:,cols])\n",
    "\n",
    "onehotencoder = OneHotEncoder(sparse=False)\n",
    "data_categorical = onehotencoder.fit_transform(df[data_cat])"
   ]
  },
  {
   "cell_type": "code",
   "execution_count": 44,
   "id": "fbf8274f",
   "metadata": {},
   "outputs": [],
   "source": [
    "features = np.concatenate([data_continuous, data_categorical], axis=1)\n",
    "\n",
    "target = df.iloc[:,20:].values\n",
    "target = LabelEncoder().fit_transform(target)"
   ]
  },
  {
   "cell_type": "code",
   "execution_count": 45,
   "id": "365b5afe",
   "metadata": {},
   "outputs": [],
   "source": [
    "X_train, X_test, y_train, y_test = train_test_split(features, target, test_size = 0.2, random_state = 0)\n"
   ]
  },
  {
   "cell_type": "code",
   "execution_count": 57,
   "id": "ea98e4a3",
   "metadata": {},
   "outputs": [
    {
     "name": "stdout",
     "output_type": "stream",
     "text": [
      "Sum of first 1 million numbers is: 499999500000\n",
      "Execution time: 3.2178173065185547 seconds\n"
     ]
    }
   ],
   "source": [
    "import time\n",
    "\n",
    "# get the start time\n",
    "st = time.time()\n",
    "\n",
    "# main program\n",
    "classifier = Sequential()\n",
    "classifier.add(Dense(units=6,kernel_initializer=\"uniform\",activation=\"relu\",input_shape=(42,)))\n",
    "classifier.add(BatchNormalization(axis=-1, momentum=0.99, epsilon=0.001, center=True, scale=True))\n",
    "classifier.add(Dense(units=6,kernel_initializer=\"uniform\",activation=\"relu\"))\n",
    "classifier.add(BatchNormalization(axis=-1, momentum=0.99, epsilon=0.001, center=True, scale=True))\n",
    "classifier.add(Dense(units=6,kernel_initializer=\"uniform\",activation=\"relu\"))\n",
    "classifier.add(BatchNormalization(axis=-1, momentum=0.99, epsilon=0.001, center=True, scale=True))\n",
    "classifier.add(Dropout(0.2))\n",
    "classifier.add(Dense(units=1,kernel_initializer=\"uniform\",activation=\"sigmoid\"))\n",
    "classifier.compile(optimizer = 'adamax', loss = 'binary_crossentropy', metrics = ['accuracy'])\n",
    "# find sum to first 1 million numbers\n",
    "sum_x = 0\n",
    "for i in range(1000000):\n",
    "    sum_x += i\n",
    "\n",
    "# wait for 3 seconds\n",
    "time.sleep(3)\n",
    "print('Sum of first 1 million numbers is:', sum_x)\n",
    "\n",
    "# get the end time\n",
    "et = time.time()\n",
    "\n",
    "# get the execution time\n",
    "elapsed_time = et - st\n",
    "print('Execution time:', elapsed_time, 'seconds')\n"
   ]
  },
  {
   "cell_type": "code",
   "execution_count": 70,
   "id": "eb11e448",
   "metadata": {},
   "outputs": [
    {
     "name": "stdout",
     "output_type": "stream",
     "text": [
      "Epoch 1/150\n",
      "113/113 [==============================] - 0s 2ms/step - loss: 0.3953 - accuracy: 0.8082\n",
      "Epoch 2/150\n",
      "113/113 [==============================] - 0s 2ms/step - loss: 0.3954 - accuracy: 0.8053\n",
      "Epoch 3/150\n",
      "113/113 [==============================] - 0s 3ms/step - loss: 0.3956 - accuracy: 0.8130\n",
      "Epoch 4/150\n",
      "113/113 [==============================] - 0s 3ms/step - loss: 0.3939 - accuracy: 0.8117\n",
      "Epoch 5/150\n",
      "113/113 [==============================] - 0s 3ms/step - loss: 0.3939 - accuracy: 0.8101\n",
      "Epoch 6/150\n",
      "113/113 [==============================] - 0s 3ms/step - loss: 0.3965 - accuracy: 0.8092\n",
      "Epoch 7/150\n",
      "113/113 [==============================] - 0s 3ms/step - loss: 0.3949 - accuracy: 0.8066\n",
      "Epoch 8/150\n",
      "113/113 [==============================] - 0s 3ms/step - loss: 0.3957 - accuracy: 0.8080\n",
      "Epoch 9/150\n",
      "113/113 [==============================] - 0s 3ms/step - loss: 0.3936 - accuracy: 0.8116\n",
      "Epoch 10/150\n",
      "113/113 [==============================] - 0s 3ms/step - loss: 0.3936 - accuracy: 0.8073\n",
      "Epoch 11/150\n",
      "113/113 [==============================] - 0s 3ms/step - loss: 0.3987 - accuracy: 0.8036\n",
      "Epoch 12/150\n",
      "113/113 [==============================] - 0s 2ms/step - loss: 0.3954 - accuracy: 0.8052\n",
      "Epoch 13/150\n",
      "113/113 [==============================] - 0s 2ms/step - loss: 0.3962 - accuracy: 0.8107\n",
      "Epoch 14/150\n",
      "113/113 [==============================] - 0s 2ms/step - loss: 0.3999 - accuracy: 0.8103\n",
      "Epoch 15/150\n",
      "113/113 [==============================] - 0s 2ms/step - loss: 0.3947 - accuracy: 0.8069\n",
      "Epoch 16/150\n",
      "113/113 [==============================] - 0s 2ms/step - loss: 0.3964 - accuracy: 0.8069\n",
      "Epoch 17/150\n",
      "113/113 [==============================] - 0s 2ms/step - loss: 0.3946 - accuracy: 0.8053\n",
      "Epoch 18/150\n",
      "113/113 [==============================] - 0s 2ms/step - loss: 0.3940 - accuracy: 0.8098\n",
      "Epoch 19/150\n",
      "113/113 [==============================] - 0s 2ms/step - loss: 0.3981 - accuracy: 0.8078\n",
      "Epoch 20/150\n",
      "113/113 [==============================] - 0s 2ms/step - loss: 0.3957 - accuracy: 0.8041\n",
      "Epoch 21/150\n",
      "113/113 [==============================] - 0s 2ms/step - loss: 0.3973 - accuracy: 0.8080\n",
      "Epoch 22/150\n",
      "113/113 [==============================] - 0s 2ms/step - loss: 0.3998 - accuracy: 0.8080\n",
      "Epoch 23/150\n",
      "113/113 [==============================] - 0s 2ms/step - loss: 0.3924 - accuracy: 0.8114\n",
      "Epoch 24/150\n",
      "113/113 [==============================] - 0s 2ms/step - loss: 0.3934 - accuracy: 0.8092\n",
      "Epoch 25/150\n",
      "113/113 [==============================] - 0s 2ms/step - loss: 0.3967 - accuracy: 0.8132\n",
      "Epoch 26/150\n",
      "113/113 [==============================] - 0s 2ms/step - loss: 0.3973 - accuracy: 0.8073\n",
      "Epoch 27/150\n",
      "113/113 [==============================] - 0s 2ms/step - loss: 0.3973 - accuracy: 0.8052\n",
      "Epoch 28/150\n",
      "113/113 [==============================] - 0s 2ms/step - loss: 0.3936 - accuracy: 0.8107\n",
      "Epoch 29/150\n",
      "113/113 [==============================] - 0s 2ms/step - loss: 0.3954 - accuracy: 0.8069\n",
      "Epoch 30/150\n",
      "113/113 [==============================] - 0s 2ms/step - loss: 0.3898 - accuracy: 0.8068\n",
      "Epoch 31/150\n",
      "113/113 [==============================] - 0s 2ms/step - loss: 0.3946 - accuracy: 0.8085\n",
      "Epoch 32/150\n",
      "113/113 [==============================] - 0s 2ms/step - loss: 0.3919 - accuracy: 0.8062\n",
      "Epoch 33/150\n",
      "113/113 [==============================] - 0s 2ms/step - loss: 0.3902 - accuracy: 0.8108\n",
      "Epoch 34/150\n",
      "113/113 [==============================] - 0s 2ms/step - loss: 0.3958 - accuracy: 0.8057\n",
      "Epoch 35/150\n",
      "113/113 [==============================] - 0s 2ms/step - loss: 0.3901 - accuracy: 0.8080\n",
      "Epoch 36/150\n",
      "113/113 [==============================] - 0s 2ms/step - loss: 0.3925 - accuracy: 0.8076\n",
      "Epoch 37/150\n",
      "113/113 [==============================] - 0s 2ms/step - loss: 0.3948 - accuracy: 0.8084\n",
      "Epoch 38/150\n",
      "113/113 [==============================] - 0s 2ms/step - loss: 0.3957 - accuracy: 0.8064\n",
      "Epoch 39/150\n",
      "113/113 [==============================] - 0s 2ms/step - loss: 0.3974 - accuracy: 0.8089\n",
      "Epoch 40/150\n",
      "113/113 [==============================] - 0s 2ms/step - loss: 0.3953 - accuracy: 0.8078\n",
      "Epoch 41/150\n",
      "113/113 [==============================] - 0s 2ms/step - loss: 0.3918 - accuracy: 0.8108\n",
      "Epoch 42/150\n",
      "113/113 [==============================] - 0s 2ms/step - loss: 0.3920 - accuracy: 0.8130\n",
      "Epoch 43/150\n",
      "113/113 [==============================] - 0s 2ms/step - loss: 0.3932 - accuracy: 0.8128\n",
      "Epoch 44/150\n",
      "113/113 [==============================] - 0s 2ms/step - loss: 0.3981 - accuracy: 0.8053\n",
      "Epoch 45/150\n",
      "113/113 [==============================] - 0s 2ms/step - loss: 0.3971 - accuracy: 0.8064\n",
      "Epoch 46/150\n",
      "113/113 [==============================] - 0s 2ms/step - loss: 0.3932 - accuracy: 0.8107\n",
      "Epoch 47/150\n",
      "113/113 [==============================] - 0s 2ms/step - loss: 0.3935 - accuracy: 0.8128\n",
      "Epoch 48/150\n",
      "113/113 [==============================] - 0s 2ms/step - loss: 0.3966 - accuracy: 0.8071\n",
      "Epoch 49/150\n",
      "113/113 [==============================] - 0s 2ms/step - loss: 0.3972 - accuracy: 0.8052\n",
      "Epoch 50/150\n",
      "113/113 [==============================] - 0s 2ms/step - loss: 0.3921 - accuracy: 0.8092\n",
      "Epoch 51/150\n",
      "113/113 [==============================] - 0s 2ms/step - loss: 0.3953 - accuracy: 0.8110\n",
      "Epoch 52/150\n",
      "113/113 [==============================] - 0s 3ms/step - loss: 0.3933 - accuracy: 0.8089\n",
      "Epoch 53/150\n",
      "113/113 [==============================] - 0s 2ms/step - loss: 0.3961 - accuracy: 0.8068\n",
      "Epoch 54/150\n",
      "113/113 [==============================] - 0s 2ms/step - loss: 0.3926 - accuracy: 0.8080\n",
      "Epoch 55/150\n",
      "113/113 [==============================] - 0s 2ms/step - loss: 0.3970 - accuracy: 0.8078\n",
      "Epoch 56/150\n",
      "113/113 [==============================] - 0s 2ms/step - loss: 0.3927 - accuracy: 0.8075\n",
      "Epoch 57/150\n",
      "113/113 [==============================] - 0s 3ms/step - loss: 0.3912 - accuracy: 0.8094\n",
      "Epoch 58/150\n",
      "113/113 [==============================] - 0s 3ms/step - loss: 0.3962 - accuracy: 0.8075\n",
      "Epoch 59/150\n",
      "113/113 [==============================] - 0s 3ms/step - loss: 0.3972 - accuracy: 0.8080\n",
      "Epoch 60/150\n",
      "113/113 [==============================] - 0s 3ms/step - loss: 0.3949 - accuracy: 0.8068\n",
      "Epoch 61/150\n",
      "113/113 [==============================] - 0s 3ms/step - loss: 0.3927 - accuracy: 0.8101\n",
      "Epoch 62/150\n",
      "113/113 [==============================] - 0s 3ms/step - loss: 0.3977 - accuracy: 0.8082\n",
      "Epoch 63/150\n",
      "113/113 [==============================] - 0s 3ms/step - loss: 0.3946 - accuracy: 0.8080\n",
      "Epoch 64/150\n",
      "113/113 [==============================] - 0s 2ms/step - loss: 0.3981 - accuracy: 0.8059\n",
      "Epoch 65/150\n",
      "113/113 [==============================] - 0s 2ms/step - loss: 0.3908 - accuracy: 0.8116\n",
      "Epoch 66/150\n",
      "113/113 [==============================] - 0s 3ms/step - loss: 0.3968 - accuracy: 0.8046\n",
      "Epoch 67/150\n",
      "113/113 [==============================] - 0s 3ms/step - loss: 0.3952 - accuracy: 0.8060\n",
      "Epoch 68/150\n",
      "113/113 [==============================] - 0s 3ms/step - loss: 0.3936 - accuracy: 0.8108\n",
      "Epoch 69/150\n",
      "113/113 [==============================] - 0s 2ms/step - loss: 0.3987 - accuracy: 0.8082\n",
      "Epoch 70/150\n",
      "113/113 [==============================] - 0s 3ms/step - loss: 0.3964 - accuracy: 0.8030\n",
      "Epoch 71/150\n",
      "113/113 [==============================] - 0s 3ms/step - loss: 0.3960 - accuracy: 0.8069\n",
      "Epoch 72/150\n",
      "113/113 [==============================] - 0s 2ms/step - loss: 0.3911 - accuracy: 0.8092\n",
      "Epoch 73/150\n",
      "113/113 [==============================] - 0s 3ms/step - loss: 0.3905 - accuracy: 0.8114\n",
      "Epoch 74/150\n",
      "113/113 [==============================] - 0s 2ms/step - loss: 0.3903 - accuracy: 0.8110\n",
      "Epoch 75/150\n",
      "113/113 [==============================] - 0s 3ms/step - loss: 0.3957 - accuracy: 0.8064\n",
      "Epoch 76/150\n",
      "113/113 [==============================] - 0s 2ms/step - loss: 0.3948 - accuracy: 0.8068\n",
      "Epoch 77/150\n",
      "113/113 [==============================] - 0s 2ms/step - loss: 0.3911 - accuracy: 0.8128\n",
      "Epoch 78/150\n",
      "113/113 [==============================] - 0s 2ms/step - loss: 0.3944 - accuracy: 0.8108\n",
      "Epoch 79/150\n",
      "113/113 [==============================] - 0s 2ms/step - loss: 0.3957 - accuracy: 0.8105\n",
      "Epoch 80/150\n",
      "113/113 [==============================] - 0s 2ms/step - loss: 0.3913 - accuracy: 0.8103\n",
      "Epoch 81/150\n",
      "113/113 [==============================] - 0s 2ms/step - loss: 0.3928 - accuracy: 0.8052\n",
      "Epoch 82/150\n",
      "113/113 [==============================] - 0s 2ms/step - loss: 0.3943 - accuracy: 0.8107\n",
      "Epoch 83/150\n",
      "113/113 [==============================] - 0s 3ms/step - loss: 0.3949 - accuracy: 0.8096\n",
      "Epoch 84/150\n",
      "113/113 [==============================] - 0s 3ms/step - loss: 0.3982 - accuracy: 0.8091\n",
      "Epoch 85/150\n",
      "113/113 [==============================] - 0s 2ms/step - loss: 0.3938 - accuracy: 0.8103\n",
      "Epoch 86/150\n",
      "113/113 [==============================] - 0s 2ms/step - loss: 0.3953 - accuracy: 0.8075\n",
      "Epoch 87/150\n",
      "113/113 [==============================] - 0s 3ms/step - loss: 0.3974 - accuracy: 0.8087\n",
      "Epoch 88/150\n",
      "113/113 [==============================] - 0s 2ms/step - loss: 0.3982 - accuracy: 0.8091\n",
      "Epoch 89/150\n",
      "113/113 [==============================] - 0s 3ms/step - loss: 0.3948 - accuracy: 0.8076\n",
      "Epoch 90/150\n",
      "113/113 [==============================] - 0s 3ms/step - loss: 0.3920 - accuracy: 0.8080\n",
      "Epoch 91/150\n",
      "113/113 [==============================] - 0s 3ms/step - loss: 0.3897 - accuracy: 0.8116\n",
      "Epoch 92/150\n",
      "113/113 [==============================] - 0s 3ms/step - loss: 0.3901 - accuracy: 0.8096\n",
      "Epoch 93/150\n",
      "113/113 [==============================] - 0s 3ms/step - loss: 0.3950 - accuracy: 0.8108\n",
      "Epoch 94/150\n",
      "113/113 [==============================] - 0s 3ms/step - loss: 0.3920 - accuracy: 0.8105\n",
      "Epoch 95/150\n",
      "113/113 [==============================] - 0s 3ms/step - loss: 0.3958 - accuracy: 0.8062\n",
      "Epoch 96/150\n",
      "113/113 [==============================] - 0s 3ms/step - loss: 0.3936 - accuracy: 0.8080\n",
      "Epoch 97/150\n",
      "113/113 [==============================] - 0s 3ms/step - loss: 0.3927 - accuracy: 0.8053\n",
      "Epoch 98/150\n",
      "113/113 [==============================] - 0s 3ms/step - loss: 0.3961 - accuracy: 0.8052\n",
      "Epoch 99/150\n",
      "113/113 [==============================] - 0s 2ms/step - loss: 0.3960 - accuracy: 0.8101\n",
      "Epoch 100/150\n",
      "113/113 [==============================] - 0s 2ms/step - loss: 0.3927 - accuracy: 0.8068\n",
      "Epoch 101/150\n",
      "113/113 [==============================] - 0s 3ms/step - loss: 0.3948 - accuracy: 0.8105\n",
      "Epoch 102/150\n",
      "113/113 [==============================] - 0s 3ms/step - loss: 0.3946 - accuracy: 0.8132\n",
      "Epoch 103/150\n",
      "113/113 [==============================] - 0s 3ms/step - loss: 0.3940 - accuracy: 0.8053\n",
      "Epoch 104/150\n",
      "113/113 [==============================] - 0s 3ms/step - loss: 0.3945 - accuracy: 0.8044\n",
      "Epoch 105/150\n",
      "113/113 [==============================] - 0s 3ms/step - loss: 0.3958 - accuracy: 0.8068\n",
      "Epoch 106/150\n",
      "113/113 [==============================] - 0s 3ms/step - loss: 0.3931 - accuracy: 0.8133\n",
      "Epoch 107/150\n",
      "113/113 [==============================] - 0s 3ms/step - loss: 0.3959 - accuracy: 0.8087\n",
      "Epoch 108/150\n",
      "113/113 [==============================] - 0s 2ms/step - loss: 0.3972 - accuracy: 0.8089\n",
      "Epoch 109/150\n",
      "113/113 [==============================] - 0s 3ms/step - loss: 0.3951 - accuracy: 0.8094\n",
      "Epoch 110/150\n",
      "113/113 [==============================] - 0s 2ms/step - loss: 0.3967 - accuracy: 0.8078\n",
      "Epoch 111/150\n",
      "113/113 [==============================] - 0s 3ms/step - loss: 0.3904 - accuracy: 0.8064\n",
      "Epoch 112/150\n",
      "113/113 [==============================] - 0s 3ms/step - loss: 0.3941 - accuracy: 0.8105\n",
      "Epoch 113/150\n",
      "113/113 [==============================] - 0s 3ms/step - loss: 0.3937 - accuracy: 0.8064\n",
      "Epoch 114/150\n",
      "113/113 [==============================] - 0s 3ms/step - loss: 0.3957 - accuracy: 0.8064\n",
      "Epoch 115/150\n",
      "113/113 [==============================] - 0s 2ms/step - loss: 0.3912 - accuracy: 0.8105\n",
      "Epoch 116/150\n",
      "113/113 [==============================] - 0s 3ms/step - loss: 0.3961 - accuracy: 0.8078\n",
      "Epoch 117/150\n",
      "113/113 [==============================] - 0s 3ms/step - loss: 0.3974 - accuracy: 0.8110\n",
      "Epoch 118/150\n",
      "113/113 [==============================] - 0s 3ms/step - loss: 0.3953 - accuracy: 0.8076\n",
      "Epoch 119/150\n",
      "113/113 [==============================] - 0s 3ms/step - loss: 0.3933 - accuracy: 0.8112\n",
      "Epoch 120/150\n",
      "113/113 [==============================] - 0s 3ms/step - loss: 0.3949 - accuracy: 0.8066\n",
      "Epoch 121/150\n",
      "113/113 [==============================] - 0s 2ms/step - loss: 0.3931 - accuracy: 0.8096\n",
      "Epoch 122/150\n",
      "113/113 [==============================] - 0s 3ms/step - loss: 0.3954 - accuracy: 0.8108\n",
      "Epoch 123/150\n",
      "113/113 [==============================] - 0s 3ms/step - loss: 0.3922 - accuracy: 0.8107\n",
      "Epoch 124/150\n",
      "113/113 [==============================] - 0s 3ms/step - loss: 0.3919 - accuracy: 0.8082\n",
      "Epoch 125/150\n",
      "113/113 [==============================] - 0s 3ms/step - loss: 0.3940 - accuracy: 0.8078\n",
      "Epoch 126/150\n",
      "113/113 [==============================] - 0s 3ms/step - loss: 0.3905 - accuracy: 0.8142\n",
      "Epoch 127/150\n",
      "113/113 [==============================] - 0s 3ms/step - loss: 0.3970 - accuracy: 0.8103\n",
      "Epoch 128/150\n",
      "113/113 [==============================] - 0s 3ms/step - loss: 0.3904 - accuracy: 0.8092\n",
      "Epoch 129/150\n",
      "113/113 [==============================] - 0s 3ms/step - loss: 0.3933 - accuracy: 0.8117\n",
      "Epoch 130/150\n",
      "113/113 [==============================] - 0s 3ms/step - loss: 0.3952 - accuracy: 0.8130\n",
      "Epoch 131/150\n",
      "113/113 [==============================] - 0s 3ms/step - loss: 0.3993 - accuracy: 0.8078\n",
      "Epoch 132/150\n",
      "113/113 [==============================] - 0s 2ms/step - loss: 0.3953 - accuracy: 0.8062\n",
      "Epoch 133/150\n",
      "113/113 [==============================] - 0s 2ms/step - loss: 0.3935 - accuracy: 0.8105\n",
      "Epoch 134/150\n",
      "113/113 [==============================] - 0s 3ms/step - loss: 0.3922 - accuracy: 0.8085\n",
      "Epoch 135/150\n",
      "113/113 [==============================] - 0s 3ms/step - loss: 0.3960 - accuracy: 0.8108\n",
      "Epoch 136/150\n",
      "113/113 [==============================] - 0s 3ms/step - loss: 0.3918 - accuracy: 0.8132\n",
      "Epoch 137/150\n",
      "113/113 [==============================] - 0s 3ms/step - loss: 0.4004 - accuracy: 0.8071\n",
      "Epoch 138/150\n",
      "113/113 [==============================] - 0s 3ms/step - loss: 0.3930 - accuracy: 0.8096\n",
      "Epoch 139/150\n",
      "113/113 [==============================] - 0s 3ms/step - loss: 0.3946 - accuracy: 0.8048\n",
      "Epoch 140/150\n",
      "113/113 [==============================] - 0s 3ms/step - loss: 0.3917 - accuracy: 0.8140\n",
      "Epoch 141/150\n",
      "113/113 [==============================] - 0s 3ms/step - loss: 0.3961 - accuracy: 0.8075\n",
      "Epoch 142/150\n",
      "113/113 [==============================] - 0s 2ms/step - loss: 0.3934 - accuracy: 0.8137\n",
      "Epoch 143/150\n",
      "113/113 [==============================] - 0s 3ms/step - loss: 0.3942 - accuracy: 0.8117\n",
      "Epoch 144/150\n",
      "113/113 [==============================] - 0s 2ms/step - loss: 0.3927 - accuracy: 0.8082\n",
      "Epoch 145/150\n",
      "113/113 [==============================] - 0s 3ms/step - loss: 0.3953 - accuracy: 0.8057\n",
      "Epoch 146/150\n",
      "113/113 [==============================] - 0s 2ms/step - loss: 0.3941 - accuracy: 0.8094\n",
      "Epoch 147/150\n",
      "113/113 [==============================] - 0s 3ms/step - loss: 0.3965 - accuracy: 0.8080\n",
      "Epoch 148/150\n",
      "113/113 [==============================] - 0s 3ms/step - loss: 0.3919 - accuracy: 0.8096\n",
      "Epoch 149/150\n",
      "113/113 [==============================] - 0s 3ms/step - loss: 0.3982 - accuracy: 0.8027\n",
      "Epoch 150/150\n",
      "113/113 [==============================] - 0s 3ms/step - loss: 0.3921 - accuracy: 0.8091\n"
     ]
    },
    {
     "data": {
      "text/plain": [
       "<keras.callbacks.History at 0x27a4a1f2a40>"
      ]
     },
     "execution_count": 70,
     "metadata": {},
     "output_type": "execute_result"
    }
   ],
   "source": [
    "classifier.fit(X_train, y_train, batch_size = 50, epochs = 150)"
   ]
  },
  {
   "cell_type": "code",
   "execution_count": 71,
   "id": "11185081",
   "metadata": {},
   "outputs": [
    {
     "name": "stdout",
     "output_type": "stream",
     "text": [
      "44/44 [==============================] - 0s 1ms/step - loss: 0.4678 - accuracy: 0.8024\n"
     ]
    },
    {
     "data": {
      "text/plain": [
       "[0.4677638113498688, 0.8024165034294128]"
      ]
     },
     "execution_count": 71,
     "metadata": {},
     "output_type": "execute_result"
    }
   ],
   "source": [
    "classifier.evaluate(X_test, y_test)"
   ]
  },
  {
   "cell_type": "code",
   "execution_count": 73,
   "id": "dcd632c8",
   "metadata": {},
   "outputs": [
    {
     "name": "stdout",
     "output_type": "stream",
     "text": [
      "44/44 [==============================] - 0s 1ms/step\n"
     ]
    }
   ],
   "source": [
    "y_pred = classifier.predict(X_test)\n",
    "y_pred = (y_pred > 0.5)"
   ]
  },
  {
   "cell_type": "code",
   "execution_count": 74,
   "id": "b0596812",
   "metadata": {},
   "outputs": [
    {
     "name": "stdout",
     "output_type": "stream",
     "text": [
      "              precision    recall  f1-score   support\n",
      "\n",
      "           0       0.84      0.91      0.87      1038\n",
      "           1       0.67      0.50      0.57       369\n",
      "\n",
      "    accuracy                           0.80      1407\n",
      "   macro avg       0.75      0.70      0.72      1407\n",
      "weighted avg       0.79      0.80      0.79      1407\n",
      "\n"
     ]
    }
   ],
   "source": [
    "print(classification_report(y_test,y_pred))"
   ]
  },
  {
   "cell_type": "code",
   "execution_count": 113,
   "id": "92a3d251",
   "metadata": {},
   "outputs": [
    {
     "data": {
      "text/plain": [
       "Text(85.18, 0.5, 'predicted label')"
      ]
     },
     "execution_count": 113,
     "metadata": {},
     "output_type": "execute_result"
    },
    {
     "data": {
      "image/png": "[encoded data removed]",
      "text/plain": [
       "<Figure size 432x288 with 1 Axes>"
      ]
     },
     "metadata": {},
     "output_type": "display_data"
    }
   ],
   "source": [
    "cm = confusion_matrix(y_test, y_pred)\n",
    "sns.heatmap(cm.T,square=True, annot=True, fmt='d', cbar=False,xticklabels=['No','Yes'],yticklabels=['No','Yes'] )\n",
    "plt.xlabel('true label')\n",
    "plt.ylabel('predicted label')"
   ]
  },
  {
   "cell_type": "code",
   "execution_count": 75,
   "id": "75b25a0e",
   "metadata": {},
   "outputs": [
    {
     "name": "stdout",
     "output_type": "stream",
     "text": [
      "Accuracy: 0.8024\n",
      "Precision: 0.6655\n",
      "Recall: 0.4959\n",
      "F1-Score: 0.5683\n",
      "Execution time: 3.2178173065185547 seconds\n"
     ]
    }
   ],
   "source": [
    "\n",
    "#Accuracy Score = (TP + TN)/ (TP + FN + TN + FP)\n",
    "print('Accuracy: %.4f' % accuracy_score(y_test, y_pred))\n",
    "\n",
    "#Precision Score = TP / (FP + TP)\n",
    "print('Precision: %.4f' % precision_score(y_test, y_pred))\n",
    "\n",
    "#Recall Score = TP / (FN + TP)\n",
    "print('Recall: %.4f' % recall_score(y_test, y_pred))\n",
    "\n",
    "#F1 Score = 2* Precision Score * Recall Score/ (Precision Score + Recall Score/)\n",
    "\n",
    "print('F1-Score: %.4f' % f1_score(y_test, y_pred))\n",
    "\n",
    "#Execution time\n",
    "print('Execution time:', elapsed_time, 'seconds')\n",
    "\n"
   ]
  },
  {
   "cell_type": "markdown",
   "id": "eb951bda",
   "metadata": {},
   "source": [
    "# Conclusion"
   ]
  },
  {
   "cell_type": "markdown",
   "id": "23b1b003",
   "metadata": {},
   "source": [
    "By completing each and every process sucessesfully we hereby conclude that,\n",
    "\n",
    "above used models namely,\n",
    "\n",
    "without Hypertuning [accurracy and its respective execution time]:\n",
    "\n",
    "1) Linear SVC - 0.7922\n",
    "2) Gaussian-rbf SVC - 0.7939\n",
    "3) polynomial SVC -\t0.7774\n",
    "4) Sigmoid SVC -\t0.7087\t\n",
    "\n",
    "overall Execution time: 5.870959997177124 seconds\n",
    "\n",
    "\n",
    "with Hypertuning [accurracy and its respective execution time]:\n",
    "\n",
    "1) Linear SVC -  0.7922       \n",
    "Execution time: 46.60475826263428 seconds\n",
    "\n",
    "2) Gaussian-rbf SVC - 0.7944\t\n",
    "Execution time: 120.5142674446106 seconds\n",
    "\n",
    "\n",
    "In case of Neural networks,\n",
    "\n",
    " with Adamax Optimizer  [accurracy and its respective execution time]:\n",
    " \n",
    " Accuracy: 0.8024\n",
    " Execution time: 3.2178173065185547 seconds\n",
    " \n",
    " is found to be relatively high when compared to other prediction models.\n",
    " \n",
    " Hence we conclude by saying that Neural Network along with a suitable Optimizer is highly reccommendable ecspecially for  classification problems with real time use cases like(Telecommunication sector).\n",
    " \n"
   ]
  },
  {
   "cell_type": "code",
   "execution_count": null,
   "id": "3ed60f6b",
   "metadata": {},
   "outputs": [],
   "source": []
  }
 ],
 "metadata": {
  "kernelspec": {
   "display_name": "Python 3 (ipykernel)",
   "language": "python",
   "name": "python3"
  },
  "language_info": {
   "codemirror_mode": {
    "name": "ipython",
    "version": 3
   },
   "file_extension": ".py",
   "mimetype": "text/x-python",
   "name": "python",
   "nbconvert_exporter": "python",
   "pygments_lexer": "ipython3",
   "version": "3.10.4"
  }
 },
 "nbformat": 4,
 "nbformat_minor": 5
}
